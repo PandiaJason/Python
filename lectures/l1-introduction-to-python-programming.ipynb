{
 "cells": [
  {
   "cell_type": "markdown",
   "metadata": {},
   "source": [
    "![College Logo](../misc/college-logo-1024x245.png)"
   ]
  },
  {
   "cell_type": "markdown",
   "metadata": {},
   "source": [
    "\n",
    "\n",
    "\n",
    "<div class=\"alert alert-block alert-info\">\n",
    "    \n",
    "# Lecture notes on Python Programming\n",
    "\n",
    "**By Jason Pandian**<br> *Assistant Professor, Department of Information Technology*\n",
    "    \n",
    "</div>\n",
    "\n"
   ]
  },
  {
   "cell_type": "markdown",
   "metadata": {},
   "source": [
    "# INTRODUCTION TO PYTHON PROGRAMMING\n",
    "Introduction to Python Programming- Python Interpreter and Interactive\n",
    "Mode -Variables- Numerical types- Arithmetic operators and\n",
    "Expressions- Psuedo Code - Values and types: int, float, Boolean -\n",
    "Variables, Expressions, Statements -**Illustrative Problems.**"
   ]
  },
  {
   "cell_type": "markdown",
   "metadata": {
    "_cell_guid": "b1076dfc-b9ad-4769-8c92-a6c4dae69d19",
    "_uuid": "8f2839f25d086af736a60e9eeb907d3b93b6e0e5",
    "execution": {
     "iopub.execute_input": "2024-02-29T15:29:33.880275Z",
     "iopub.status.busy": "2024-02-29T15:29:33.879856Z",
     "iopub.status.idle": "2024-02-29T15:29:33.923139Z",
     "shell.execute_reply": "2024-02-29T15:29:33.920959Z",
     "shell.execute_reply.started": "2024-02-29T15:29:33.880237Z"
    }
   },
   "source": [
    "### What is Programming?\n",
    "Programming is the process of automating tasks logically and efficiently through writing code that a computer can understand and execute."
   ]
  },
  {
   "cell_type": "markdown",
   "metadata": {},
   "source": [
    "### Hello, World!"
   ]
  },
  {
   "cell_type": "code",
   "execution_count": 1,
   "metadata": {},
   "outputs": [
    {
     "name": "stdout",
     "output_type": "stream",
     "text": [
      "Hello, World!\n"
     ]
    }
   ],
   "source": [
    "print(\"Hello, World!\")"
   ]
  },
  {
   "cell_type": "markdown",
   "metadata": {},
   "source": [
    "### Print Hello World n times "
   ]
  },
  {
   "cell_type": "code",
   "execution_count": 2,
   "metadata": {},
   "outputs": [
    {
     "name": "stdout",
     "output_type": "stream",
     "text": [
      "Hello, World!\n",
      "Hello, World!\n",
      "Hello, World!\n",
      "Hello, World!\n",
      "Hello, World!\n",
      "Hello, World!\n",
      "Hello, World!\n",
      "Hello, World!\n",
      "Hello, World!\n",
      "Hello, World!\n"
     ]
    }
   ],
   "source": [
    "n = 10\n",
    "for i in range(0,n):\n",
    "    print(\"Hello, World!\")"
   ]
  },
  {
   "cell_type": "markdown",
   "metadata": {},
   "source": [
    "### Key Takeaway\n",
    "\n",
    "- Programming automates tasks.\n",
    "- Good programs aim for logical and efficient solutions.\n",
    "- Conciseness (fewer lines of code) is a desirable aspect of effective programming."
   ]
  },
  {
   "cell_type": "markdown",
   "metadata": {},
   "source": [
    "<div class=\"alert alert-block alert-info\">\n",
    "    \n",
    "<b>Any Questions?</b> \n",
    "    \n",
    "</div>"
   ]
  },
  {
   "cell_type": "markdown",
   "metadata": {},
   "source": [
    "### Standard Definition\n",
    "\n",
    "Programming is the process of designing and building executable computer programs to perform specific tasks or solve particular problems. It involves creating a set of instructions that a computer can understand and execute. The primary goal of programming is to develop software that can automate tasks, process data, or provide solutions to various challenges."
   ]
  },
  {
   "cell_type": "markdown",
   "metadata": {},
   "source": [
    "## Python Programming\n",
    "\n",
    "- Python is a high-level programming interpreted language known for its simple syntax, rich libraries, and conciseness, allowing for less code. \n",
    "- It is an object-oriented programming language that has gained notable popularity in web development, enterprise automation, and artificial intelligence.\n",
    "- Python is also functional and procedural programming language. \n",
    "- Python is also recognized as a rapid prototyping language, facilitating the transition from a conceptual idea to a functional code solution."
   ]
  },
  {
   "cell_type": "markdown",
   "metadata": {},
   "source": [
    "### Pseudocode\n",
    "Pseudocode is a way to represent an algorithm or a program using informal and high-level language that doesn't follow the syntax rules of a specific programming language. It's often used in the early stages of planning and designing algorithms before implementing them in a particular language. Here's an example of pseudocode for a simple task, like finding the maximum of two numbers:\n",
    "\n",
    "plaintext\n",
    "Copy code\n",
    "# Pseudocode for Finding the Maximum of Two Numbers\n",
    "```Python\n",
    "Function findMaximum(num1, num2):\n",
    "    # Check if num1 is greater than num2\n",
    "    If num1 > num2 Then\n",
    "        Return num1  # num1 is the maximum\n",
    "    Else\n",
    "        Return num2  # num2 is the maximum\n",
    "    End If\n",
    "End Function\n",
    "\n",
    "```\n",
    "In this pseudocode:\n",
    "\n",
    "Function indicates the beginning of a function or subroutine.\n",
    "If is used for conditional statements.\n",
    "Then signifies the start of the code block executed if the condition is true.\n",
    "Else denotes the alternative code block executed if the condition is false.\n",
    "End If marks the end of the conditional statement.\n",
    "Remember, pseudocode is not standardized, and there are various ways to represent the same logic. Its purpose is to convey the algorithm's logic in a human-readable and understandable manner, without worrying about the syntax of a particular programming language. "
   ]
  },
  {
   "cell_type": "markdown",
   "metadata": {},
   "source": [
    "## Python Interpreter\n",
    "\n",
    "A Python interpreter is a program that executes Python code. It reads and interprets Python scripts or commands, converting them into machine-readable instructions that the computer's hardware can execute. ie Interpreter is responsible for executing Python code. It serves as the bridge between the written Python script and the machine, translating the code into machine-readable instructions.\n",
    "\n",
    "### 1. Interactive Mode:\n",
    "The interpreter supports an interactive mode where users can enter Python commands one at a time and receive immediate feedback. This is helpful for testing small pieces of code or exploring language features."
   ]
  },
  {
   "cell_type": "markdown",
   "metadata": {},
   "source": [
    "![Interpreter](../misc/interpreter-mode.png)"
   ]
  },
  {
   "cell_type": "code",
   "execution_count": null,
   "metadata": {},
   "outputs": [],
   "source": [
    "$ python\n",
    ">>> print(\"Hello, Python!\")\n",
    "Hello, Python!"
   ]
  },
  {
   "cell_type": "markdown",
   "metadata": {},
   "source": [
    "### 2. Script Execution\n",
    "The interpreter is used to execute Python scripts stored in files. By running the interpreter followed by the script's filename, the code within the script is executed."
   ]
  },
  {
   "cell_type": "code",
   "execution_count": 7,
   "metadata": {},
   "outputs": [
    {
     "name": "stdout",
     "output_type": "stream",
     "text": [
      "hello\n",
      "20.5\n"
     ]
    }
   ],
   "source": [
    "print(\"hello\")\n",
    "iNumber = 10\n",
    "f_number = 10.5\n",
    "s12 = iNumber + f_number\n",
    "print(s12)"
   ]
  },
  {
   "cell_type": "markdown",
   "metadata": {},
   "source": [
    "```Python\n",
    "$ python hello.py"
   ]
  },
  {
   "cell_type": "markdown",
   "metadata": {},
   "source": [
    "### 3. Dynamic Typing\n",
    "Python is dynamically typed, meaning variable types are determined at runtime. The interpreter manages this dynamic typing, allowing flexibility in variable usage."
   ]
  },
  {
   "cell_type": "markdown",
   "metadata": {},
   "source": [
    "```Python\n",
    ">>> x = 5\n",
    ">>> type(x)\n",
    "<class 'int'>"
   ]
  },
  {
   "cell_type": "code",
   "execution_count": 6,
   "metadata": {},
   "outputs": [
    {
     "name": "stdout",
     "output_type": "stream",
     "text": [
      "<class 'int'>\n",
      "<class 'str'>\n"
     ]
    }
   ],
   "source": [
    "x = 5\n",
    "print(type(x))\n",
    "x = \"Hello\"\n",
    "print(type(x))"
   ]
  },
  {
   "cell_type": "markdown",
   "metadata": {},
   "source": [
    "### 4.Garbage Collection\n",
    "The interpreter includes a garbage collector that automatically handles memory management. It identifies and frees up memory occupied by objects that are no longer in use."
   ]
  },
  {
   "cell_type": "markdown",
   "metadata": {},
   "source": [
    "### 5.Standard Library\n",
    "Python comes with an extensive standard library that provides ready-to-use modules and packages for various tasks. The interpreter interacts with these libraries to extend Python's functionality"
   ]
  },
  {
   "cell_type": "code",
   "execution_count": 5,
   "metadata": {},
   "outputs": [
    {
     "name": "stdout",
     "output_type": "stream",
     "text": [
      "Current Date and Time: 2024-04-03 07:47:07.355989\n",
      "Formatted Date: 2024-04-03 07:47:07\n"
     ]
    }
   ],
   "source": [
    "# Example Code Using Python Standard Library\n",
    "\n",
    "# Using the `datetime` module to work with dates and times\n",
    "from datetime import datetime\n",
    "\n",
    "# Get the current date and time\n",
    "current_datetime = datetime.now()\n",
    "\n",
    "# Print the current date and time\n",
    "print(\"Current Date and Time:\", current_datetime)\n",
    "\n",
    "# Format the date as a string\n",
    "formatted_date = current_datetime.strftime(\"%Y-%m-%d %H:%M:%S\")\n",
    "print(\"Formatted Date:\", formatted_date)"
   ]
  },
  {
   "cell_type": "markdown",
   "metadata": {},
   "source": [
    "- We import the datetime module from the standard library.\n",
    "- We use datetime.now() to get the current date and time.\n",
    "- We print the current date and time.\n",
    "- We format the date as a string using strftime() and print the formatted date."
   ]
  },
  {
   "cell_type": "markdown",
   "metadata": {},
   "source": [
    "### 6.Extensibility \n",
    "The interpreter is extensible, allowing the incorporation of modules written in languages like C. This feature enables developers to enhance Python's capabilities or integrate it with existing systems.\n",
    "\n",
    "### 7.Platform Independence\n",
    "Python interpreters are available for various platforms (Windows, macOS, Linux), making Python code portable across different operating systems.\n",
    "\n",
    "### 8.Error Handling\n",
    "The interpreter identifies syntax errors and runtime errors, providing feedback to the developer for debugging purposes."
   ]
  },
  {
   "cell_type": "code",
   "execution_count": 4,
   "metadata": {},
   "outputs": [
    {
     "name": "stdout",
     "output_type": "stream",
     "text": [
      "Error: division by zero\n",
      "Cannot divide by zero. Please check your input.\n",
      "Execution completed.\n",
      "Program continues...\n"
     ]
    }
   ],
   "source": [
    "# Basic Error Handling Example\n",
    "\n",
    "try:\n",
    "    # Attempt to perform a division by zero\n",
    "    result = 10 / 0\n",
    "\n",
    "except ZeroDivisionError as e:\n",
    "    # Handle the ZeroDivisionError exception\n",
    "    print(\"Error:\", e)\n",
    "    print(\"Cannot divide by zero. Please check your input.\")\n",
    "    \n",
    "except Exception as e:\n",
    "    # Handle any other exceptions\n",
    "    print(\"An unexpected error occurred:\", e)\n",
    "\n",
    "finally:\n",
    "    # Code in the 'finally' block will always be executed, whether an exception occurred or not\n",
    "    print(\"Execution completed.\")\n",
    "\n",
    "# The program continues to run after handling the exception\n",
    "print(\"Program continues...\")\n"
   ]
  },
  {
   "cell_type": "markdown",
   "metadata": {},
   "source": [
    "<div class=\"alert alert-block alert-info\">\n",
    "    \n",
    "<b>Any Questions?</b> \n",
    "    \n",
    "</div>"
   ]
  },
  {
   "cell_type": "markdown",
   "metadata": {},
   "source": [
    "## Variables\n",
    "n Python, a variable is a symbolic name that refers to a value. These values can be of different types, such as numbers, strings, or more complex data structures. Here are key points about Python variables:\n",
    "\n",
    "### Variable Declaration\n",
    "\n",
    "In Python, you don't need to explicitly declare the type of a variable. You can simply assign a value to a variable, and Python will determine its type dynamically."
   ]
  },
  {
   "cell_type": "code",
   "execution_count": 8,
   "metadata": {},
   "outputs": [
    {
     "name": "stdout",
     "output_type": "stream",
     "text": [
      "Jason\n"
     ]
    }
   ],
   "source": [
    "s = 10\n",
    "s = \"Jason\"\n",
    "print(s)"
   ]
  },
  {
   "cell_type": "markdown",
   "metadata": {},
   "source": [
    "#### Assignment Operator \" = \" \n",
    "\n",
    "Variables are decleared with Assignment Operator \" = \".\n",
    "\n",
    "A simple program to add two integers. and print the result."
   ]
  },
  {
   "cell_type": "code",
   "execution_count": 9,
   "metadata": {
    "scrolled": true
   },
   "outputs": [
    {
     "name": "stdout",
     "output_type": "stream",
     "text": [
      "Result 15\n"
     ]
    }
   ],
   "source": [
    "num1 = 10\n",
    "num2 = 5\n",
    "sum_result = num1 + num2\n",
    "print(\"Result\", sum_result)"
   ]
  },
  {
   "cell_type": "markdown",
   "metadata": {},
   "source": [
    "### 1.Variable Assignment\n",
    "You can assign values to variables using the assignment operator (=)."
   ]
  },
  {
   "cell_type": "code",
   "execution_count": 10,
   "metadata": {},
   "outputs": [],
   "source": [
    "# Example of variable assignment\n",
    "year = 2024\n",
    "name = \"Tom\""
   ]
  },
  {
   "cell_type": "markdown",
   "metadata": {},
   "source": [
    "### 2.Variable Naming Rules\n",
    "\n",
    "- Variable names can contain letters, numbers, and underscores.\n",
    "- They cannot start with a number.\n",
    "- Variable names are case-sensitive (age and Age are different variables)."
   ]
  },
  {
   "cell_type": "code",
   "execution_count": 11,
   "metadata": {},
   "outputs": [
    {
     "name": "stdout",
     "output_type": "stream",
     "text": [
      "25\n",
      "20\n",
      "18\n"
     ]
    }
   ],
   "source": [
    "# Valid variable names\n",
    "my_variable = 10\n",
    "count = 5\n",
    "userName = \"Tom\"\n",
    "\n",
    "AGE = 25\n",
    "Age = 20\n",
    "age = 18\n",
    "\n",
    "print(AGE)\n",
    "print(Age)\n",
    "print(age)"
   ]
  },
  {
   "cell_type": "code",
   "execution_count": 12,
   "metadata": {},
   "outputs": [
    {
     "ename": "SyntaxError",
     "evalue": "invalid decimal literal (4203881969.py, line 2)",
     "output_type": "error",
     "traceback": [
      "\u001b[0;36m  Cell \u001b[0;32mIn[12], line 2\u001b[0;36m\u001b[0m\n\u001b[0;31m    2nd_place = \"error\"  # starts with a number\u001b[0m\n\u001b[0m    ^\u001b[0m\n\u001b[0;31mSyntaxError\u001b[0m\u001b[0;31m:\u001b[0m invalid decimal literal\n"
     ]
    }
   ],
   "source": [
    "# Invalid variable names\n",
    "2nd_place = \"error\"  # starts with a number"
   ]
  },
  {
   "cell_type": "markdown",
   "metadata": {},
   "source": [
    "### 3.Dynamic Typing\n",
    "Python is dynamically typed, meaning you don't need to specify the type of a variable explicitly. The interpreter infers the type based on the assigned value.\n"
   ]
  },
  {
   "cell_type": "code",
   "execution_count": 13,
   "metadata": {},
   "outputs": [],
   "source": [
    "x = 10       # x is an integer\n",
    "y = \"hello\"  # y is a string"
   ]
  },
  {
   "cell_type": "markdown",
   "metadata": {},
   "source": [
    "### 4.Variable Reassignment\n",
    "You can change the value of a variable by assigning it a new value."
   ]
  },
  {
   "cell_type": "code",
   "execution_count": 14,
   "metadata": {},
   "outputs": [],
   "source": [
    "age = 25\n",
    "age = 30  # Variable 'age' is reassigned a new value\n",
    "x = \"python\" # x is now a string"
   ]
  },
  {
   "cell_type": "markdown",
   "metadata": {},
   "source": [
    "### 5.Multiple Assignment\n",
    "You can assign values to multiple variables in a single line."
   ]
  },
  {
   "cell_type": "code",
   "execution_count": 15,
   "metadata": {},
   "outputs": [],
   "source": [
    "a, b, c = 1, 2, 3"
   ]
  },
  {
   "cell_type": "markdown",
   "metadata": {},
   "source": [
    "### 6.Global and Local Variables\n",
    "\n",
    "- Variables defined outside of functions or methods are global.\n",
    "- Variables defined inside functions or methods are local."
   ]
  },
  {
   "cell_type": "code",
   "execution_count": 16,
   "metadata": {},
   "outputs": [],
   "source": [
    "global_variable = 10\n",
    "\n",
    "def my_function():\n",
    "    local_variable = 5\n",
    "    print(global_variable)  # Accessing global variable"
   ]
  },
  {
   "cell_type": "markdown",
   "metadata": {},
   "source": [
    "### 7.Variable Types\n",
    "Python has various built-in data types for variables, including integers, floats, strings, lists, tuples, dictionaries, and more."
   ]
  },
  {
   "cell_type": "code",
   "execution_count": 17,
   "metadata": {},
   "outputs": [],
   "source": [
    "age = 25            # Integer\n",
    "height = 5.9        # Float\n",
    "name = \"Tom\"        # String\n",
    "complex = 1 + 4j    # Complex Number\n",
    "my_list = [1, 2, 3] # List"
   ]
  },
  {
   "cell_type": "markdown",
   "metadata": {},
   "source": [
    "# Python has No Support To Constants"
   ]
  },
  {
   "cell_type": "code",
   "execution_count": 18,
   "metadata": {},
   "outputs": [
    {
     "name": "stdout",
     "output_type": "stream",
     "text": [
      "2007\n"
     ]
    }
   ],
   "source": [
    "YEAR = 2006 \n",
    "YEAR = YEAR + 1\n",
    "print(YEAR)"
   ]
  },
  {
   "cell_type": "markdown",
   "metadata": {},
   "source": [
    "## Numerical types\n",
    "\n",
    "\n",
    "- In Python, numerical types are used to represent numeric values. \n",
    "- The primary numerical types include integers (int), \n",
    "- floating-point numbers (float), and \n",
    "- complex numbers (complex). "
   ]
  },
  {
   "cell_type": "markdown",
   "metadata": {},
   "source": [
    "### 1.Integer (int)\n",
    "Integers represent whole numbers without any decimal points.\n",
    "\n",
    "Example: x = 5\n",
    "\n",
    "### 2.Floating-point (float)\n",
    "Floating-point numbers represent numbers with decimal points or in exponential form.\n",
    "Example: y = 3.14\n",
    "\n",
    "### 3.Complex (complex)\n",
    "Complex numbers consist of a real part and an imaginary part, where the imaginary part is represented with a \"j\" or \"J\".\n",
    "Example: z = 2 + 3j"
   ]
  },
  {
   "cell_type": "code",
   "execution_count": 19,
   "metadata": {},
   "outputs": [],
   "source": [
    "# Integer\n",
    "integer_number = 42\n",
    "\n",
    "# Floating-point\n",
    "float_number = 3.14\n",
    "\n",
    "# Complex\n",
    "complex_number = 2 + 3j"
   ]
  },
  {
   "cell_type": "markdown",
   "metadata": {},
   "source": [
    "These numerical types support various arithmetic operations, and you can perform calculations using them. \n",
    "### For example"
   ]
  },
  {
   "cell_type": "code",
   "execution_count": 20,
   "metadata": {},
   "outputs": [],
   "source": [
    "# Arithmetic operations\n",
    "result_addition = integer_number + float_number\n",
    "result_multiplication = integer_number * complex_number"
   ]
  },
  {
   "cell_type": "markdown",
   "metadata": {},
   "source": [
    "- Python also provides built-in functions to convert between different numerical types (int(), float(), complex()). \n",
    "- Understanding these numerical types and their operations is fundamental for numerical computations and mathematical operations in Python."
   ]
  },
  {
   "cell_type": "markdown",
   "metadata": {},
   "source": [
    "## Boolean \n",
    "In Python, a boolean is a data type that represents two possible values: True or False. Booleans are fundamental in programming, especially in control flow statements and logical operations. Here are some key points about booleans in Python\n",
    "### 1. Boolean Values\n",
    "The two boolean values in Python are `True` and `False`. These values are case-sensitive, so make sure to use the correct capitalization."
   ]
  },
  {
   "cell_type": "code",
   "execution_count": 21,
   "metadata": {},
   "outputs": [],
   "source": [
    "x = True\n",
    "y = False"
   ]
  },
  {
   "cell_type": "markdown",
   "metadata": {},
   "source": [
    "### 2.Boolean Operations\n",
    "\n",
    "Python supports various boolean operations, such as AND (and), OR (or), and NOT (not), which are used to combine or negate boolean values."
   ]
  },
  {
   "cell_type": "code",
   "execution_count": 22,
   "metadata": {},
   "outputs": [],
   "source": [
    "a = True\n",
    "b = False\n",
    "result_and = a and b  # False\n",
    "result_or = a or b    # True\n",
    "result_not = not a    # False"
   ]
  },
  {
   "cell_type": "markdown",
   "metadata": {},
   "source": [
    "### 3.Comparison Operators\n",
    "Boolean values often result from comparison operations. Common comparison operators include `==` (equal), `!=` (not equal), `<` (less than), `>` (greater than), `<=` (less than or equal to), and `>=` (greater than or equal to)."
   ]
  },
  {
   "cell_type": "code",
   "execution_count": 23,
   "metadata": {},
   "outputs": [],
   "source": [
    "num1 = 10\n",
    "num2 = 5\n",
    "result_equal = num1 == num2  # False\n",
    "result_less_than = num1 < num2  # False"
   ]
  },
  {
   "cell_type": "markdown",
   "metadata": {},
   "source": [
    "## Arithmetic operators and Expressions in python\n",
    "### 1.Addition (+)\n",
    "\n",
    "Adds two values."
   ]
  },
  {
   "cell_type": "code",
   "execution_count": 24,
   "metadata": {},
   "outputs": [
    {
     "name": "stdout",
     "output_type": "stream",
     "text": [
      "<class 'int'>\n",
      "8\n"
     ]
    }
   ],
   "source": [
    "# Addition\n",
    "add_result = 5 + 3\n",
    "print(type(add_result))\n",
    "print(add_result)"
   ]
  },
  {
   "cell_type": "markdown",
   "metadata": {},
   "source": [
    "### 2.Subtraction (-)\n",
    "\n",
    "Subtracts the right operand from the left operand."
   ]
  },
  {
   "cell_type": "code",
   "execution_count": 25,
   "metadata": {},
   "outputs": [
    {
     "name": "stdout",
     "output_type": "stream",
     "text": [
      "<class 'int'>\n",
      "5\n"
     ]
    }
   ],
   "source": [
    "# Subtraction\n",
    "sub_result = 7 - 2\n",
    "print(type(sub_result))\n",
    "print(sub_result)"
   ]
  },
  {
   "cell_type": "markdown",
   "metadata": {},
   "source": [
    "### 3.Multiplication (*)\n",
    "\n",
    "Multiplies two values."
   ]
  },
  {
   "cell_type": "code",
   "execution_count": 26,
   "metadata": {},
   "outputs": [
    {
     "name": "stdout",
     "output_type": "stream",
     "text": [
      "<class 'int'>\n",
      "24\n"
     ]
    }
   ],
   "source": [
    "# Multiplication\n",
    "mul_result = 4 * 6\n",
    "print(type(mul_result))\n",
    "print(mul_result)"
   ]
  },
  {
   "cell_type": "markdown",
   "metadata": {},
   "source": [
    "### 4.Division (/)\n",
    "\n",
    "Divides the left operand by the right operand. Returns a float."
   ]
  },
  {
   "cell_type": "code",
   "execution_count": 27,
   "metadata": {},
   "outputs": [
    {
     "name": "stdout",
     "output_type": "stream",
     "text": [
      "<class 'float'>\n",
      "5.0\n"
     ]
    }
   ],
   "source": [
    "# Division\n",
    "div_result = 10 / 2\n",
    "print(type(div_result))\n",
    "print(div_result)"
   ]
  },
  {
   "cell_type": "markdown",
   "metadata": {},
   "source": [
    "### 5.Floor Division (//)\n",
    "\n",
    "Divides the left operand by the right operand and returns the largest integer less than or equal "
   ]
  },
  {
   "cell_type": "code",
   "execution_count": 28,
   "metadata": {},
   "outputs": [
    {
     "name": "stdout",
     "output_type": "stream",
     "text": [
      "<class 'int'>\n",
      "1\n"
     ]
    }
   ],
   "source": [
    "# Floor Division\n",
    "floor_div_result = 3 // 2\n",
    "print(type(floor_div_result))\n",
    "print(floor_div_result)"
   ]
  },
  {
   "cell_type": "markdown",
   "metadata": {},
   "source": [
    "### 6.Modulus (%)\n",
    "\n",
    "Returns the remainder of the division of the left operand by the right operand."
   ]
  },
  {
   "cell_type": "code",
   "execution_count": 29,
   "metadata": {},
   "outputs": [
    {
     "name": "stdout",
     "output_type": "stream",
     "text": [
      "<class 'int'>\n",
      "1\n"
     ]
    }
   ],
   "source": [
    "# Modulus\n",
    "mod_result = 3 % 2\n",
    "print(type(mod_result))\n",
    "print(mod_result)"
   ]
  },
  {
   "cell_type": "markdown",
   "metadata": {},
   "source": [
    "### 7.Exponentiation (**)\n",
    "\n",
    "Raises the left operand to the power of the right operand."
   ]
  },
  {
   "cell_type": "code",
   "execution_count": 30,
   "metadata": {},
   "outputs": [
    {
     "name": "stdout",
     "output_type": "stream",
     "text": [
      "<class 'int'>\n",
      "8\n"
     ]
    }
   ],
   "source": [
    "# Exponentiation\n",
    "exp_result = 2 ** 3\n",
    "print(type(exp_result))\n",
    "print(exp_result)"
   ]
  },
  {
   "cell_type": "markdown",
   "metadata": {},
   "source": [
    "\n",
    "### Relational Operators\n",
    "- `==` (equal to)\n",
    "- `!=` (not equal to)\n",
    "- `>` (greater than)\n",
    "- `<` (less than)\n",
    "- `>=` (greater than or equal to)\n",
    "- `<=` (less than or equal to)\n"
   ]
  },
  {
   "cell_type": "code",
   "execution_count": 31,
   "metadata": {
    "scrolled": true
   },
   "outputs": [
    {
     "name": "stdout",
     "output_type": "stream",
     "text": [
      "Equal to:  False\n",
      "Not equal to:  True\n",
      "Greater than:  False\n",
      "Less than:  True\n",
      "Greater than or equal to:  False\n",
      "Less than or equal to:  True\n"
     ]
    }
   ],
   "source": [
    "\n",
    "# Relational Operators\n",
    "x,y  = 8, 12\n",
    "print(\"Equal to: \", x == y) # false\n",
    "print(\"Not equal to: \", x != y) # true\n",
    "print(\"Greater than: \", x > y) # false\n",
    "print(\"Less than: \", x < y) # true\n",
    "print(\"Greater than or equal to: \", x >= y) # false\n",
    "print(\"Less than or equal to: \", x <= y) # true\n"
   ]
  },
  {
   "cell_type": "markdown",
   "metadata": {},
   "source": [
    "\n",
    "### Logical Operators:\n",
    "- `and` (logical AND)\n",
    "- `or` (logical OR)\n",
    "- `not` (logical NOT)"
   ]
  },
  {
   "cell_type": "code",
   "execution_count": 32,
   "metadata": {},
   "outputs": [
    {
     "name": "stdout",
     "output_type": "stream",
     "text": [
      "Logical AND: 0\n",
      "Logical OR: 1\n",
      "Logical NOT: False\n"
     ]
    }
   ],
   "source": [
    "# Logical Operators\n",
    "p, q = 1, 0\n",
    "\n",
    "# 1 AND 0\n",
    "print(\"Logical AND:\", p and q)\n",
    "\n",
    "# 1 OR 0\n",
    "print(\"Logical OR:\", p or q)\n",
    "\n",
    "# NOT 1\n",
    "print(\"Logical NOT:\", not p)\n"
   ]
  },
  {
   "cell_type": "markdown",
   "metadata": {},
   "source": [
    "### Increment and Decrement in Python\n",
    "In Python, the ++ and -- operators do not exist. Instead, you can use the += and -= operators for incrementing and decrementing variables. Here's an example:"
   ]
  },
  {
   "cell_type": "code",
   "execution_count": 33,
   "metadata": {},
   "outputs": [
    {
     "name": "stdout",
     "output_type": "stream",
     "text": [
      "Incremented value: 6\n",
      "Decremented value: 5\n"
     ]
    }
   ],
   "source": [
    "## Increment and Decrement in Python\n",
    "x = 5\n",
    "\n",
    "# Increment by 1\n",
    "x += 1  # Equivalent to x = x + 1\n",
    "print(\"Incremented value:\", x)\n",
    "\n",
    "# Decrement by 1\n",
    "x -= 1  # Equivalent to x = x - 1\n",
    "print(\"Decremented value:\", x)\n"
   ]
  },
  {
   "cell_type": "markdown",
   "metadata": {},
   "source": [
    "### Python Statements\n",
    "\n",
    "1. **Assignment Statements:**\n",
    "   - Assign values to variables.\n",
    "   ```python\n",
    "   x = 5\n",
    "   name = \"John\"\n",
    "\n",
    "### Expression Statements\n",
    "\n",
    "Evaluate an expression and assign its result to a variable.\n",
    "\n",
    "```Python\n",
    "result = x + 10\n",
    "```\n",
    "### Print Statement\n",
    "Output information to the console.\n",
    "```Python \n",
    "print(\"Hello, World!\")\n",
    "```\n",
    "### Conditional Statements (if, elif, else)\n",
    "Execute code based on a condition.\n",
    "```Python\n",
    "if x > 0:\n",
    "    print(\"Positive\")\n",
    "elif x < 0:\n",
    "    print(\"Negative\")\n",
    "else:\n",
    "    print(\"Zero\")\n",
    "\n",
    "```\n",
    "### Loop Statements (for, while)\n",
    "Execute a block of code repeatedly.\n",
    "```Python\n",
    "for i in range(5):\n",
    "    print(i)\n",
    "\n",
    "while x > 0:\n",
    "    print(x)\n",
    "    x -= 1\n",
    "```\n",
    "\n",
    "### Pass Statement\n",
    "\n",
    "Placeholder statement with no effect.\n",
    "\n",
    "```Python \n",
    "if condition:\n",
    "    pass\n",
    "```\n",
    "\n",
    "### Break and Continue Statements\n",
    "\n",
    "`break` exits a loop prematurely, and `continue` skips the rest of the code in the current iteration.\n",
    "\n",
    "```Python\n",
    "for i in range(10):\n",
    "    if i == 5:\n",
    "        break\n",
    "    print(i)\n",
    "```\n",
    "\n",
    "### Try-Except Statements (Exception Handling)\n",
    "\n",
    "Handle exceptions during code execution.\n",
    "\n",
    "```Python\n",
    "try:\n",
    "    result = 10 / 0\n",
    "except ZeroDivisionError:\n",
    "    print(\"Cannot divide by zero.\")\n",
    "```\n",
    "### Return Statement\n",
    "Return a value from a function.\n",
    "```Python\n",
    "def add_numbers(a, b):\n",
    "    return a + b\n",
    "```\n",
    "### Assert Statement\n",
    "Check if a condition is True.\n",
    "```Python\n",
    "assert x > 0, \"x must be positive\"\n",
    "\n",
    "```"
   ]
  },
  {
   "cell_type": "markdown",
   "metadata": {},
   "source": [
    "<div class=\"alert alert-block alert-info\">\n",
    "    \n",
    "<b>Any Questions?</b> \n",
    "    \n",
    "</div>"
   ]
  },
  {
   "cell_type": "markdown",
   "metadata": {},
   "source": [
    "These are fundamental concepts related to variables in Python. Understanding how to use and manipulate variables is crucial for effective Python programming."
   ]
  },
  {
   "cell_type": "markdown",
   "metadata": {},
   "source": [
    "# Print Triangle"
   ]
  },
  {
   "cell_type": "code",
   "execution_count": 34,
   "metadata": {},
   "outputs": [
    {
     "name": "stdout",
     "output_type": "stream",
     "text": [
      "    * \n",
      "   * * \n",
      "  * * * \n",
      " * * * * \n",
      "* * * * * \n"
     ]
    }
   ],
   "source": [
    "# Height of the triangle\n",
    "height = 5\n",
    "end_range = height + 1 # by adding 1 to the height. It determines the range limit for the loop.\n",
    "\n",
    "# Loop to print each row\n",
    "for i in range(1, end_range):\n",
    "    # Print spaces before the stars\n",
    "    print(\" \" * (height - i), end=\"\")\n",
    "    \n",
    "    # Print stars for the current row\n",
    "    print(\"* \" * i)\n"
   ]
  },
  {
   "cell_type": "markdown",
   "metadata": {},
   "source": [
    "<div class=\"alert alert-block alert-info\">\n",
    "    \n",
    "<li>1. Python Programming for Beginners: Skyrocket Your Code and Master Python in Less than a Week. Discover the Foolproof, Practical Route to Uncover Insider Hacks, Unlock New Opportunities, and Revolution Kindle Edition by Kit Jackson (Author), 31 May 2023</li> \n",
    "<li>2. Python Programming for Beginners,ISBN-13-979-8870875248, Narry Prince, 2023</li> \n",
    "    \n",
    "</div>"
   ]
  },
  {
   "cell_type": "markdown",
   "metadata": {},
   "source": [
    "\n",
    "\n",
    "\n",
    "<div class=\"alert alert-block alert-info\">\n",
    "    \n",
    "# Any Questions or Doubts?\n",
    "\n",
    "[**Refer the Lectures/Tutorials GitHub Page**](https://github.com/PandiaJason/Python)\n",
    "\n",
    "    \n",
    "</div>\n",
    "\n"
   ]
  }
 ],
 "metadata": {
  "kaggle": {
   "accelerator": "none",
   "dataSources": [],
   "dockerImageVersionId": 30664,
   "isGpuEnabled": false,
   "isInternetEnabled": false,
   "language": "python",
   "sourceType": "notebook"
  },
  "kernelspec": {
   "display_name": "Python 3 (ipykernel)",
   "language": "python",
   "name": "python3"
  },
  "language_info": {
   "codemirror_mode": {
    "name": "ipython",
    "version": 3
   },
   "file_extension": ".py",
   "mimetype": "text/x-python",
   "name": "python",
   "nbconvert_exporter": "python",
   "pygments_lexer": "ipython3",
   "version": "3.11.2"
  }
 },
 "nbformat": 4,
 "nbformat_minor": 4
}
