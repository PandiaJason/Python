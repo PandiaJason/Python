{
 "cells": [
  {
   "cell_type": "markdown",
   "metadata": {},
   "source": [
    "![College Logo](/home/pandiajason/NIT/IT/Python/misc/college-logo-1024x245.png)"
   ]
  },
  {
   "cell_type": "markdown",
   "metadata": {},
   "source": [
    "\n",
    "\n",
    "\n",
    "<div class=\"alert alert-block alert-info\">\n",
    "    \n",
    "# Lecture notes on Python Programming\n",
    "\n",
    "**By Jason Pandian**<br> *Assistant Professor, Department of Information Technology*\n",
    "    \n",
    "</div>\n",
    "\n"
   ]
  },
  {
   "cell_type": "markdown",
   "metadata": {},
   "source": [
    "# LISTS, TUPLES DICTIONARIES AND FUNCTIONS\n",
    "Lists: list operations, list slices, list methods, list loop, mutability, aliasing, cloning lists, list parameters- Tuples: tuple assignment, tuple as return value- Dictionaries: operations and methods, advanced list processing – list comprehension. Functions and User Defined Functions: Simple and Mathematical Built–in Functions, Recursion -Illustrative Problems"
   ]
  },
  {
   "cell_type": "markdown",
   "metadata": {
    "_cell_guid": "b1076dfc-b9ad-4769-8c92-a6c4dae69d19",
    "_uuid": "8f2839f25d086af736a60e9eeb907d3b93b6e0e5",
    "execution": {
     "iopub.execute_input": "2024-02-29T15:29:33.880275Z",
     "iopub.status.busy": "2024-02-29T15:29:33.879856Z",
     "iopub.status.idle": "2024-02-29T15:29:33.923139Z",
     "shell.execute_reply": "2024-02-29T15:29:33.920959Z",
     "shell.execute_reply.started": "2024-02-29T15:29:33.880237Z"
    }
   },
   "source": [
    "### What is List?\n",
    "- In Python, a list is a versatile data structure used to store a collection of items. \n",
    "- Lists are ordered, mutable (modifiable), and can contain elements of different data types, including other lists. - They are denoted by square brackets [], with elements separated by commas."
   ]
  },
  {
   "cell_type": "markdown",
   "metadata": {},
   "source": [
    "### List Basic Examples"
   ]
  },
  {
   "cell_type": "code",
   "execution_count": 28,
   "metadata": {},
   "outputs": [
    {
     "name": "stdout",
     "output_type": "stream",
     "text": [
      "1\n",
      "['pear', 'banana', 'orange', 'grape']\n",
      "[1, 2, 3, 4, 5, 'pear', 'banana', 'orange', 'grape']\n",
      "[2, 3]\n",
      "5\n"
     ]
    }
   ],
   "source": [
    "# Define a list containing integers\n",
    "my_list = [1, 2, 3, 4, 5]\n",
    "\n",
    "# Accessing elements of a list using index\n",
    "print(my_list[0])  # Output: 1\n",
    "\n",
    "# Define a list containing strings\n",
    "fruits = ['apple', 'banana', 'orange', 'grape']\n",
    "\n",
    "# Modifying elements of a list\n",
    "fruits[0] = 'pear'\n",
    "print(fruits)      # Output: ['pear', 'banana', 'orange', 'grape']\n",
    "\n",
    "# Define a list containing mixed data types\n",
    "mixed_list = [1, 'hello', 3.14, True]\n",
    "\n",
    "# List concatenation\n",
    "new_list = my_list + fruits\n",
    "print(new_list)    # Output: [1, 2, 3, 4, 5, 'pear', 'banana', 'orange', 'grape']\n",
    "\n",
    "# List slicing\n",
    "print(my_list[1:3])  # Output: [2, 3]\n",
    "\n",
    "# Length of a list\n",
    "print(len(my_list))  # Output: 5\n",
    "\n",
    "# Nested lists (list containing lists)\n",
    "nested_list = [[1, 2, 3], [4, 5, 6], [7, 8, 9]]"
   ]
  },
  {
   "cell_type": "markdown",
   "metadata": {},
   "source": [
    "### List Operations\n",
    "Appending Elements\n",
    "append(): Adds an element to the end of the list."
   ]
  },
  {
   "cell_type": "code",
   "execution_count": 29,
   "metadata": {},
   "outputs": [
    {
     "name": "stdout",
     "output_type": "stream",
     "text": [
      "[1, 2, 3, 4]\n"
     ]
    }
   ],
   "source": [
    "my_list = [1, 2, 3]\n",
    "my_list.append(4)\n",
    "print(my_list)  # Output: [1, 2, 3, 4]"
   ]
  },
  {
   "cell_type": "markdown",
   "metadata": {},
   "source": [
    "## Extending Lists:\n",
    "\n",
    "extend(): Appends elements from another list to the end of the list."
   ]
  },
  {
   "cell_type": "code",
   "execution_count": 30,
   "metadata": {},
   "outputs": [
    {
     "name": "stdout",
     "output_type": "stream",
     "text": [
      "[1, 2, 3, 4, 5, 6]\n"
     ]
    }
   ],
   "source": [
    "my_list = [1, 2, 3]\n",
    "another_list = [4, 5, 6]\n",
    "my_list.extend(another_list)\n",
    "print(my_list)  # Output: [1, 2, 3, 4, 5, 6]\n"
   ]
  },
  {
   "cell_type": "markdown",
   "metadata": {},
   "source": [
    "## Inserting Elements:\n",
    "insert(): Inserts an element at a specified position.\n"
   ]
  },
  {
   "cell_type": "code",
   "execution_count": 31,
   "metadata": {},
   "outputs": [
    {
     "name": "stdout",
     "output_type": "stream",
     "text": [
      "[1, 5, 2, 3]\n"
     ]
    }
   ],
   "source": [
    "my_list = [1, 2, 3]\n",
    "my_list.insert(1, 5)\n",
    "print(my_list)  # Output: [1, 5, 2, 3]"
   ]
  },
  {
   "cell_type": "markdown",
   "metadata": {},
   "source": [
    "\n",
    "## Removing Elements:\n",
    "\n",
    "remove(): Removes the first occurrence of a specified value."
   ]
  },
  {
   "cell_type": "code",
   "execution_count": 32,
   "metadata": {},
   "outputs": [
    {
     "name": "stdout",
     "output_type": "stream",
     "text": [
      "[1, 2, 4, 3]\n"
     ]
    }
   ],
   "source": [
    "\n",
    "my_list = [1, 2, 3, 4, 3]\n",
    "my_list.remove(3)\n",
    "print(my_list)  # Output: [1, 2, 4, 3]\n"
   ]
  },
  {
   "cell_type": "markdown",
   "metadata": {},
   "source": [
    "\n",
    "## Popping Elements:\n",
    "\n",
    "pop(): Removes and returns the element at a specified index. If no index is specified, it removes and returns the last element."
   ]
  },
  {
   "cell_type": "code",
   "execution_count": 33,
   "metadata": {},
   "outputs": [
    {
     "name": "stdout",
     "output_type": "stream",
     "text": [
      "[1, 3]\n",
      "2\n"
     ]
    }
   ],
   "source": [
    "my_list = [1, 2, 3]\n",
    "popped_element = my_list.pop(1)\n",
    "print(my_list)       # Output: [1, 3]\n",
    "print(popped_element)  # Output: 2\n"
   ]
  },
  {
   "cell_type": "markdown",
   "metadata": {},
   "source": [
    "## Indexing:\n",
    "\n",
    "index(): Returns the index of the first occurrence of a specified value.\n"
   ]
  },
  {
   "cell_type": "code",
   "execution_count": 34,
   "metadata": {},
   "outputs": [
    {
     "name": "stdout",
     "output_type": "stream",
     "text": [
      "2\n"
     ]
    }
   ],
   "source": [
    "my_list = [1, 2, 3, 4, 3]\n",
    "index = my_list.index(3)\n",
    "print(index)  # Output: 2"
   ]
  },
  {
   "cell_type": "markdown",
   "metadata": {},
   "source": [
    "## Counting:\n",
    "count(): Returns the number of occurrences of a specified value."
   ]
  },
  {
   "cell_type": "code",
   "execution_count": 35,
   "metadata": {},
   "outputs": [
    {
     "name": "stdout",
     "output_type": "stream",
     "text": [
      "2\n"
     ]
    }
   ],
   "source": [
    "\n",
    "my_list = [1, 2, 3, 4, 3]\n",
    "count = my_list.count(3)\n",
    "print(count)  # Output: 2\n"
   ]
  },
  {
   "cell_type": "markdown",
   "metadata": {},
   "source": [
    "## Sorting :\n",
    "\n",
    "sort(): Sorts the list in ascending order."
   ]
  },
  {
   "cell_type": "code",
   "execution_count": 36,
   "metadata": {},
   "outputs": [
    {
     "name": "stdout",
     "output_type": "stream",
     "text": [
      "[1, 2, 3, 4]\n"
     ]
    }
   ],
   "source": [
    "my_list = [3, 1, 4, 2]\n",
    "my_list.sort()\n",
    "print(my_list)  # Output: [1, 2, 3, 4]"
   ]
  },
  {
   "cell_type": "markdown",
   "metadata": {},
   "source": [
    "## Reversing:\n",
    "reverse(): Reverses the order of the elements in the list."
   ]
  },
  {
   "cell_type": "markdown",
   "metadata": {},
   "source": [
    "my_list = [1, 2, 3, 4]\n",
    "my_list.reverse()\n",
    "print(my_list)  # Output: [4, 3, 2, 1]"
   ]
  },
  {
   "cell_type": "markdown",
   "metadata": {},
   "source": [
    "## Copying Lists:\n",
    "\n",
    "copy(): Returns a shallow copy of the list."
   ]
  },
  {
   "cell_type": "code",
   "execution_count": 37,
   "metadata": {},
   "outputs": [
    {
     "name": "stdout",
     "output_type": "stream",
     "text": [
      "[1, 2, 3]\n"
     ]
    }
   ],
   "source": [
    "my_list = [1, 2, 3]\n",
    "copied_list = my_list.copy()\n",
    "print(copied_list)  # Output: [1, 2, 3]"
   ]
  },
  {
   "cell_type": "code",
   "execution_count": 38,
   "metadata": {},
   "outputs": [
    {
     "name": "stdout",
     "output_type": "stream",
     "text": [
      "After appending 6: [1, 2, 3, 4, 5, 6]\n",
      "After extending with [7, 8, 9]: [1, 2, 3, 4, 5, 6, 7, 8, 9]\n",
      "After inserting 10 at index 2: [1, 2, 10, 3, 4, 5, 6, 7, 8, 9]\n",
      "After removing the first occurrence of 3: [1, 2, 10, 4, 5, 6, 7, 8, 9]\n",
      "Popped element: 5\n",
      "After popping the element at index 4: [1, 2, 10, 4, 6, 7, 8, 9]\n",
      "Index of 2: 1\n",
      "Count of 5: 0\n",
      "After sorting: [1, 2, 4, 6, 7, 8, 9, 10]\n",
      "After reversing: [10, 9, 8, 7, 6, 4, 2, 1]\n",
      "Copied list: [10, 9, 8, 7, 6, 4, 2, 1]\n"
     ]
    }
   ],
   "source": [
    "# Define a list\n",
    "my_list = [1, 2, 3, 4, 5]\n",
    "\n",
    "# Append method: adds an element to the end of the list\n",
    "my_list.append(6)\n",
    "print(\"After appending 6:\", my_list)\n",
    "\n",
    "# Extend method: appends elements from another list to the end of the list\n",
    "another_list = [7, 8, 9]\n",
    "my_list.extend(another_list)\n",
    "print(\"After extending with [7, 8, 9]:\", my_list)\n",
    "\n",
    "# Insert method: inserts an element at a specified position\n",
    "my_list.insert(2, 10)\n",
    "print(\"After inserting 10 at index 2:\", my_list)\n",
    "\n",
    "# Remove method: removes the first occurrence of a specified value\n",
    "my_list.remove(3)\n",
    "print(\"After removing the first occurrence of 3:\", my_list)\n",
    "\n",
    "# Pop method: removes and returns the element at a specified index, or the last element if no index is specified\n",
    "popped_element = my_list.pop(4)\n",
    "print(\"Popped element:\", popped_element)\n",
    "print(\"After popping the element at index 4:\", my_list)\n",
    "\n",
    "# Index method: returns the index of the first occurrence of a specified value\n",
    "index_of_2 = my_list.index(2)\n",
    "print(\"Index of 2:\", index_of_2)\n",
    "\n",
    "# Count method: returns the number of occurrences of a specified value\n",
    "count_of_5 = my_list.count(5)\n",
    "print(\"Count of 5:\", count_of_5)\n",
    "\n",
    "# Sort method: sorts the list in ascending order\n",
    "my_list.sort()\n",
    "print(\"After sorting:\", my_list)\n",
    "\n",
    "# Reverse method: reverses the order of the elements in the list\n",
    "my_list.reverse()\n",
    "print(\"After reversing:\", my_list)\n",
    "\n",
    "# Copy method: returns a shallow copy of the list\n",
    "copied_list = my_list.copy()\n",
    "print(\"Copied list:\", copied_list)\n"
   ]
  },
  {
   "cell_type": "code",
   "execution_count": 39,
   "metadata": {},
   "outputs": [
    {
     "data": {
      "text/plain": [
       "'he'"
      ]
     },
     "execution_count": 39,
     "metadata": {},
     "output_type": "execute_result"
    }
   ],
   "source": [
    "name = 'hello'\n",
    "name[0:2]"
   ]
  },
  {
   "cell_type": "markdown",
   "metadata": {},
   "source": [
    "## List slices\n",
    "In Python, list slices allow you to access a subset of elements from a list. They provide a convenient way to work with a portion of a list without modifying the original list. Here's how you can use list slices in Python:\n"
   ]
  },
  {
   "cell_type": "code",
   "execution_count": 1,
   "metadata": {},
   "outputs": [
    {
     "name": "stdout",
     "output_type": "stream",
     "text": [
      "Slice 1: [1, 2]\n"
     ]
    }
   ],
   "source": [
    "# Create a sample list\n",
    "my_list = [1, 2, 3, 4, 5, 6, 7, 8, 9, 10]\n",
    "\n",
    "# Basic slicing: [start:stop:step]\n",
    "# Access elements from index 2 to index 5 (exclusive)\n",
    "slice_1 = my_list[0:2]\n",
    "print(\"Slice 1:\", slice_1)"
   ]
  },
  {
   "cell_type": "code",
   "execution_count": 2,
   "metadata": {},
   "outputs": [
    {
     "name": "stdout",
     "output_type": "stream",
     "text": [
      "Slice 2: [1, 2, 3, 4, 5, 6]\n"
     ]
    }
   ],
   "source": [
    "my_list = [1, 2, 3, 4, 5, 6, 7, 8, 9, 10]\n",
    "# Access elements from the beginning to index 6 (exclusive)\n",
    "slice_2 = my_list[:6]\n",
    "print(\"Slice 2:\", slice_2)"
   ]
  },
  {
   "cell_type": "code",
   "execution_count": 3,
   "metadata": {},
   "outputs": [
    {
     "name": "stdout",
     "output_type": "stream",
     "text": [
      "Slice 3: [4, 5, 6, 7, 8, 9, 10]\n"
     ]
    }
   ],
   "source": [
    "\n",
    "my_list = [1, 2, 3, 4, 5, 6, 7, 8, 9, 10]\n",
    "# Access elements from index 3 to the end\n",
    "slice_3 = my_list[3:]\n",
    "print(\"Slice 3:\", slice_3)"
   ]
  },
  {
   "cell_type": "code",
   "execution_count": 4,
   "metadata": {},
   "outputs": [
    {
     "name": "stdout",
     "output_type": "stream",
     "text": [
      "Slice 4: [1, 3, 5, 7, 9]\n"
     ]
    }
   ],
   "source": [
    "my_list = [1, 2, 3, 4, 5, 6, 7, 8, 9, 10]\n",
    "# Access every second element\n",
    "slice_4 = my_list[::2]\n",
    "print(\"Slice 4:\", slice_4)"
   ]
  },
  {
   "cell_type": "code",
   "execution_count": 5,
   "metadata": {},
   "outputs": [
    {
     "name": "stdout",
     "output_type": "stream",
     "text": [
      "Slice 5: [10, 9, 8, 7, 6, 5, 4, 3, 2, 1]\n"
     ]
    }
   ],
   "source": [
    "my_list = [1, 2, 3, 4, 5, 6, 7, 8, 9, 10]\n",
    "# Access elements in reverse order\n",
    "slice_5 = my_list[::-1]\n",
    "print(\"Slice 5:\", slice_5)"
   ]
  },
  {
   "cell_type": "markdown",
   "metadata": {},
   "source": [
    "In Python, slicing syntax follows the pattern [start:stop:step], where:\n",
    "start: The starting index of the slice (inclusive).\n",
    "stop: The ending index of the slice (exclusive).\n",
    "step: The step size for selecting elements (optional, defaults to 1).\n",
    "You can omit any of these parameters, and Python will use default values:\n",
    "\n",
    "If start is omitted, it defaults to 0 (beginning of the list).\n",
    "If stop is omitted, it defaults to the end of the list.\n",
    "If step is omitted, it defaults to 1 (select every element)."
   ]
  },
  {
   "cell_type": "markdown",
   "metadata": {},
   "source": [
    "## List Loop"
   ]
  },
  {
   "cell_type": "code",
   "execution_count": 7,
   "metadata": {},
   "outputs": [
    {
     "name": "stdout",
     "output_type": "stream",
     "text": [
      "1\n",
      "2\n",
      "3\n",
      "4\n",
      "5\n",
      "a\n"
     ]
    }
   ],
   "source": [
    "# Create a sample list\n",
    "my_list = [1, 2, 3, 4, 5, 'a']\n",
    "\n",
    "# Loop through the list and print each element\n",
    "for element in my_list:\n",
    "    print(element)"
   ]
  },
  {
   "cell_type": "markdown",
   "metadata": {},
   "source": [
    "## Aliasing\n",
    "\n",
    "- In Python, aliasing refers to the situation where two or more variables refer to the same object in memory. \n",
    "- This concept is relevant when working with mutable objects like lists. \n",
    "- When you create a new variable and assign it the value of another variable containing a list, both variables reference the same list object in memory. \n",
    "- Therefore, modifications made to one variable will affect the other."
   ]
  },
  {
   "cell_type": "code",
   "execution_count": 8,
   "metadata": {},
   "outputs": [
    {
     "name": "stdout",
     "output_type": "stream",
     "text": [
      "Original List: [1, 2, 3, 4, 5, 6]\n",
      "Alias List: [1, 2, 3, 4, 5, 6]\n"
     ]
    }
   ],
   "source": [
    "# Creating a list\n",
    "original_list = [1, 2, 3, 4, 5]\n",
    "\n",
    "# Creating an alias by assigning the list to a new variable\n",
    "alias_list = original_list\n",
    "\n",
    "# Modifying the alias list\n",
    "alias_list.append(6)\n",
    "\n",
    "# Printing both lists\n",
    "print(\"Original List:\", original_list)\n",
    "print(\"Alias List:\", alias_list)\n"
   ]
  },
  {
   "cell_type": "markdown",
   "metadata": {},
   "source": [
    "As you can see, when we modify the alias_list by appending an element, the change is reflected in the original_list as well because both variables reference the same list object in memory.\n",
    "\n",
    "To avoid aliasing and create a copy of the list instead, you can use slicing or the`copy()` method:\n",
    "\n",
    "## Copy Method"
   ]
  },
  {
   "cell_type": "code",
   "execution_count": 9,
   "metadata": {},
   "outputs": [
    {
     "name": "stdout",
     "output_type": "stream",
     "text": [
      "Original List: [1, 2, 3, 4, 5, 6]\n",
      "Copied List: [1, 2, 3, 4, 5, 6, 7]\n"
     ]
    }
   ],
   "source": [
    "# Using slicing to create a copy of the original list\n",
    "copied_list = original_list[:]\n",
    "\n",
    "# Modifying the copied list\n",
    "copied_list.append(7)\n",
    "\n",
    "# Printing both lists\n",
    "print(\"Original List:\", original_list)\n",
    "print(\"Copied List:\", copied_list)\n"
   ]
  },
  {
   "cell_type": "markdown",
   "metadata": {},
   "source": [
    "## List Parameters"
   ]
  },
  {
   "cell_type": "code",
   "execution_count": 48,
   "metadata": {},
   "outputs": [
    {
     "name": "stdout",
     "output_type": "stream",
     "text": [
      "1\n",
      "2\n",
      "3\n",
      "4\n",
      "5\n"
     ]
    }
   ],
   "source": [
    "# Define a function that takes a list as a parameter\n",
    "def process_list(my_list):\n",
    "    # Iterate through the elements of the list and print each element\n",
    "    for element in my_list:\n",
    "        print(element)\n",
    "\n",
    "# Create a list\n",
    "my_list = [1, 2, 3, 4, 5]\n",
    "\n",
    "# Call the function with the list as an argument\n",
    "process_list(my_list)\n"
   ]
  },
  {
   "cell_type": "code",
   "execution_count": 49,
   "metadata": {},
   "outputs": [
    {
     "name": "stdout",
     "output_type": "stream",
     "text": [
      "[1, 2, 3, 4, 5, 6]\n"
     ]
    }
   ],
   "source": [
    "# Define a function that takes two lists as parameters\n",
    "def merge_lists(list1, list2):\n",
    "    # Concatenate the two lists and return the result\n",
    "    return list1 + list2\n",
    "\n",
    "# Create two lists\n",
    "list1 = [1, 2, 3]\n",
    "list2 = [4, 5, 6]\n",
    "\n",
    "# Call the function with the two lists as arguments\n",
    "result = merge_lists(list1, list2)\n",
    "print(result)  # Output: [1, 2, 3, 4, 5, 6]\n"
   ]
  },
  {
   "cell_type": "markdown",
   "metadata": {},
   "source": [
    "## Tuples\n",
    "- Tuples in Python are immutable sequences, similar to lists, but with the key difference that tuples cannot be modified once created. \n",
    "- They are typically used to store collections of heterogeneous data, and they support indexing, slicing, and other sequence operations.\n",
    "- Tuples are defined using parentheses ()."
   ]
  },
  {
   "cell_type": "code",
   "execution_count": 10,
   "metadata": {},
   "outputs": [
    {
     "name": "stdout",
     "output_type": "stream",
     "text": [
      "(1, 2, 3, 'a', 'b', 'c')\n"
     ]
    }
   ],
   "source": [
    "# Creating a tuple\n",
    "my_tuple = (1, 2, 3, 'a', 'b', 'c')\n",
    "print(my_tuple)"
   ]
  },
  {
   "cell_type": "code",
   "execution_count": 11,
   "metadata": {},
   "outputs": [
    {
     "name": "stdout",
     "output_type": "stream",
     "text": [
      "1\n",
      "a\n"
     ]
    }
   ],
   "source": [
    "# Accessing elements of the tuple\n",
    "my_tuple = (1, 2, 3, 'a', 'b', 'c')\n",
    "print(my_tuple[0])  # Output: 1\n",
    "print(my_tuple[3])  # Output: 'a'\n"
   ]
  },
  {
   "cell_type": "code",
   "execution_count": 52,
   "metadata": {},
   "outputs": [
    {
     "name": "stdout",
     "output_type": "stream",
     "text": [
      "(3, 'a', 'b')\n"
     ]
    }
   ],
   "source": [
    "# Slicing a tuple\n",
    "my_tuple = (1, 2, 3, 'a', 'b', 'c')\n",
    "print(my_tuple[2:5])  # Output: (3, 'a', 'b')\n"
   ]
  },
  {
   "cell_type": "code",
   "execution_count": 53,
   "metadata": {},
   "outputs": [
    {
     "name": "stdout",
     "output_type": "stream",
     "text": [
      "1\n",
      "2\n",
      "3\n"
     ]
    }
   ],
   "source": [
    "# Tuple unpacking\n",
    "a, b, c = (1, 2, 3)\n",
    "print(a)  # Output: 1\n",
    "print(b)  # Output: 2\n",
    "print(c)  # Output: 3"
   ]
  },
  {
   "cell_type": "code",
   "execution_count": 54,
   "metadata": {},
   "outputs": [
    {
     "ename": "TypeError",
     "evalue": "'tuple' object does not support item assignment",
     "output_type": "error",
     "traceback": [
      "\u001b[0;31m---------------------------------------------------------------------------\u001b[0m",
      "\u001b[0;31mTypeError\u001b[0m                                 Traceback (most recent call last)",
      "Cell \u001b[0;32mIn[54], line 2\u001b[0m\n\u001b[1;32m      1\u001b[0m \u001b[38;5;66;03m# Trying to modify a tuple will result in an error\u001b[39;00m\n\u001b[0;32m----> 2\u001b[0m \u001b[43mmy_tuple\u001b[49m\u001b[43m[\u001b[49m\u001b[38;5;241;43m0\u001b[39;49m\u001b[43m]\u001b[49m \u001b[38;5;241m=\u001b[39m \u001b[38;5;241m10\u001b[39m  \u001b[38;5;66;03m# Raises TypeError\u001b[39;00m\n",
      "\u001b[0;31mTypeError\u001b[0m: 'tuple' object does not support item assignment"
     ]
    }
   ],
   "source": [
    "# Trying to modify a tuple will result in an error\n",
    "my_tuple[0] = 10  # Raises TypeError\n"
   ]
  },
  {
   "cell_type": "code",
   "execution_count": 55,
   "metadata": {},
   "outputs": [
    {
     "name": "stdout",
     "output_type": "stream",
     "text": [
      "6\n",
      "True\n",
      "(1, 2, 3, 'a', 'b', 'c')\n",
      "(0, 2, 3, 'a', 'b', 'c', 'd')\n"
     ]
    }
   ],
   "source": [
    "# Length of a tuple\n",
    "print(len(my_tuple))  # Output: 6\n",
    "\n",
    "# Membership test\n",
    "print('a' in my_tuple)  # Output: True\n",
    "\n",
    "\n",
    "# Increment tuple/ reassign and change tuple\n",
    "my_tuple = (1, 2, 3, 'a', 'b', 'c')\n",
    "print(my_tuple)\n",
    "my_tuple = (0, 2, 3, 'a', 'b', 'c', 'd')\n",
    "print(my_tuple)\n"
   ]
  },
  {
   "cell_type": "code",
   "execution_count": 56,
   "metadata": {},
   "outputs": [
    {
     "name": "stdout",
     "output_type": "stream",
     "text": [
      "(1, 2, 3, 'a', 'b', 'c')\n"
     ]
    }
   ],
   "source": [
    "# Alaising\n",
    "my_tuple = (1, 2, 3, 'a', 'b', 'c')\n",
    "new_tuple = my_tuple\n",
    "print(new_tuple)"
   ]
  },
  {
   "cell_type": "markdown",
   "metadata": {},
   "source": [
    "## Basic Tuple Assignment"
   ]
  },
  {
   "cell_type": "code",
   "execution_count": 57,
   "metadata": {},
   "outputs": [
    {
     "name": "stdout",
     "output_type": "stream",
     "text": [
      "Name: Mathy\n",
      "Age: 25\n",
      "City: Chennai\n"
     ]
    }
   ],
   "source": [
    "# Define a tuple\n",
    "person = (\"Mathy\", 25, \"Chennai\")\n",
    "\n",
    "# Unpack the tuple into individual variables\n",
    "name, age, city = person\n",
    "\n",
    "# Print the variables\n",
    "print(\"Name:\", name)\n",
    "print(\"Age:\", age)\n",
    "print(\"City:\", city)\n"
   ]
  },
  {
   "cell_type": "markdown",
   "metadata": {},
   "source": [
    "### Swap in Tuple"
   ]
  },
  {
   "cell_type": "code",
   "execution_count": 58,
   "metadata": {},
   "outputs": [
    {
     "name": "stdout",
     "output_type": "stream",
     "text": [
      "a: 10\n",
      "b: 5\n"
     ]
    }
   ],
   "source": [
    "# Define two variables\n",
    "a = 5\n",
    "b = 10\n",
    "\n",
    "# Swap the values of the variables using tuple assignment\n",
    "a, b = b, a\n",
    "\n",
    "# Print the variables after swapping\n",
    "print(\"a:\", a)\n",
    "print(\"b:\", b)\n"
   ]
  },
  {
   "cell_type": "code",
   "execution_count": 13,
   "metadata": {},
   "outputs": [
    {
     "name": "stdout",
     "output_type": "stream",
     "text": [
      "first: 1\n",
      "second: 2\n",
      "third: 3\n",
      "Remaining: <class 'list'>\n"
     ]
    }
   ],
   "source": [
    "# Define a tuple\n",
    "numbers = (1, 2, 3, 4, 5)\n",
    "\n",
    "# Assign the first three values of the tuple to a single variable\n",
    "first, second, third, *remaining = numbers\n",
    "\n",
    "# Print the variables\n",
    "print(\"first:\", first)\n",
    "print(\"second:\", second)\n",
    "print(\"third:\", third)\n",
    "print(\"Remaining:\", type(remaining))\n"
   ]
  },
  {
   "cell_type": "code",
   "execution_count": 18,
   "metadata": {},
   "outputs": [
    {
     "name": "stdout",
     "output_type": "stream",
     "text": [
      "x: 10\n",
      "_: 30\n"
     ]
    }
   ],
   "source": [
    "# Define a tuple\n",
    "point = (10, 20, 30)\n",
    "\n",
    "# Unpack the tuple, but ignore the third value using an underscore\n",
    "x, y, _ = point\n",
    "\n",
    "# Print the variables\n",
    "print(\"x:\", x)\n",
    "print(\"_:\", _)\n"
   ]
  },
  {
   "cell_type": "markdown",
   "metadata": {},
   "source": [
    "## Tuple as return value"
   ]
  },
  {
   "cell_type": "code",
   "execution_count": 29,
   "metadata": {},
   "outputs": [
    {
     "name": "stdin",
     "output_type": "stream",
     "text": [
      "value of x 6\n",
      "value of y 8\n"
     ]
    },
    {
     "name": "stdout",
     "output_type": "stream",
     "text": [
      "X Coordinate: 6\n",
      "Y Coordinate: 8\n",
      "(6, 8)\n"
     ]
    }
   ],
   "source": [
    "def get_coordinates():\n",
    "    # Simulate fetching coordinates\n",
    "    x = int(input(\"value of x\"))\n",
    "    y = int(input(\"value of y\"))\n",
    "    return x, y\n",
    "\n",
    "# Call the function and receive the tuple\n",
    "coordinates = get_coordinates()\n",
    "\n",
    "# Unpack the tuple\n",
    "x, y = coordinates\n",
    "\n",
    "# Print the coordinates\n",
    "print(\"X Coordinate:\", x)\n",
    "print(\"Y Coordinate:\", y)\n",
    "print(coordinates)\n"
   ]
  },
  {
   "cell_type": "markdown",
   "metadata": {},
   "source": [
    "## Dictionaries\n",
    "- Dictionaries in Python are data structures that store key-value pairs. \n",
    "- They are mutable, unordered collections, allowing you to store and retrieve data based on keys rather than numerical indices. "
   ]
  },
  {
   "cell_type": "markdown",
   "metadata": {},
   "source": [
    "## Creating Dictionaries\n",
    "Dictionaries are defined using curly braces {} with key-value pairs separated by colons `:`.\n"
   ]
  },
  {
   "cell_type": "code",
   "execution_count": 42,
   "metadata": {},
   "outputs": [
    {
     "name": "stdout",
     "output_type": "stream",
     "text": [
      "{'name': 'Mathy', 'age': 25, 'city': 'Chennai'}\n"
     ]
    }
   ],
   "source": [
    "# Creating a dictionary\n",
    "person = {\n",
    "    \"name\": \"Mathy\",\n",
    "    \"age\": 25,\n",
    "    \"city\": \"Chennai\"\n",
    "}\n",
    "print(person)"
   ]
  },
  {
   "cell_type": "markdown",
   "metadata": {},
   "source": [
    "## Accessing Values\n",
    "Values in a dictionary can be accessed by specifying the corresponding key."
   ]
  },
  {
   "cell_type": "code",
   "execution_count": 43,
   "metadata": {},
   "outputs": [
    {
     "name": "stdout",
     "output_type": "stream",
     "text": [
      "Mathy\n",
      "25\n"
     ]
    }
   ],
   "source": [
    "# Accessing values in the dictionary\n",
    "print(person[\"name\"])  # Output: Mathy\n",
    "print(person[\"age\"])    # Output: 30"
   ]
  },
  {
   "cell_type": "markdown",
   "metadata": {},
   "source": [
    "## Adding and Modifying Values\n",
    "You can add new key-value pairs or modify existing ones in a dictionary."
   ]
  },
  {
   "cell_type": "code",
   "execution_count": 44,
   "metadata": {},
   "outputs": [
    {
     "name": "stdout",
     "output_type": "stream",
     "text": [
      "Name: Male\n",
      "Age: 26\n",
      "{'name': 'Mathy', 'age': 26, 'city': 'Chennai', 'gender': 'Male'}\n"
     ]
    }
   ],
   "source": [
    "# Adding a new key-value pair\n",
    "person[\"gender\"] = \"Male\"\n",
    "\n",
    "# Modifying an existing value\n",
    "person[\"age\"] = 26\n",
    "\n",
    "print(\"Name:\", person[\"gender\"])  \n",
    "print(\"Age:\", person[\"age\"])\n",
    "print(person)"
   ]
  },
  {
   "cell_type": "markdown",
   "metadata": {},
   "source": [
    "## Dictionary Methods\n",
    "Python dictionaries come with several built-in methods for manipulation:"
   ]
  },
  {
   "cell_type": "code",
   "execution_count": 39,
   "metadata": {},
   "outputs": [
    {
     "name": "stdout",
     "output_type": "stream",
     "text": [
      "Keys: <class 'dict_keys'>\n"
     ]
    }
   ],
   "source": [
    "\n",
    "# Getting all keys\n",
    "keys = person.keys()\n",
    "print(\"Keys:\", type(keys))  # Output: dict_keys(['name', 'age', 'city', 'gender'])\n",
    "\n"
   ]
  },
  {
   "cell_type": "code",
   "execution_count": 34,
   "metadata": {},
   "outputs": [
    {
     "name": "stdout",
     "output_type": "stream",
     "text": [
      "Values: dict_values(['Mathy', 26, 'Chennai', 'Male'])\n"
     ]
    }
   ],
   "source": [
    "# Getting all values\n",
    "values = person.values()\n",
    "print(\"Values:\", values)  # Output: dict_values(['Mathy', 31, 'Chennai', 'Male'])\n",
    "\n"
   ]
  },
  {
   "cell_type": "code",
   "execution_count": 40,
   "metadata": {},
   "outputs": [
    {
     "name": "stdout",
     "output_type": "stream",
     "text": [
      "True\n",
      "False\n"
     ]
    }
   ],
   "source": [
    "# Checking if a key exists\n",
    "print(\"city\" in person)  # Output: True\n",
    "print(\"Female\" in person['gender'])"
   ]
  },
  {
   "cell_type": "code",
   "execution_count": 41,
   "metadata": {},
   "outputs": [
    {
     "name": "stdout",
     "output_type": "stream",
     "text": [
      "{'name': 'Mathy', 'city': 'Chennai', 'gender': 'Male'}\n"
     ]
    }
   ],
   "source": [
    "# Removing a key-value pair\n",
    "del person[\"age\"]\n",
    "\n",
    "print(person)"
   ]
  },
  {
   "cell_type": "markdown",
   "metadata": {},
   "source": [
    "## Iteration over key and values"
   ]
  },
  {
   "cell_type": "code",
   "execution_count": 45,
   "metadata": {},
   "outputs": [
    {
     "name": "stdout",
     "output_type": "stream",
     "text": [
      "name : Mathy\n",
      "age : 26\n",
      "city : Chennai\n",
      "gender : Male\n"
     ]
    }
   ],
   "source": [
    "# Iterating over keys\n",
    "for key in person:\n",
    "    print(key, \":\", person[key])\n"
   ]
  },
  {
   "cell_type": "code",
   "execution_count": 48,
   "metadata": {},
   "outputs": [
    {
     "name": "stdout",
     "output_type": "stream",
     "text": [
      "name : Mathy\n",
      "age : 26\n",
      "city : Chennai\n",
      "gender : Male\n"
     ]
    }
   ],
   "source": [
    "# Iterating over keys\n",
    "for key in person.keys():\n",
    "    print(key, \":\", person[key])\n"
   ]
  },
  {
   "cell_type": "code",
   "execution_count": 49,
   "metadata": {},
   "outputs": [
    {
     "name": "stdout",
     "output_type": "stream",
     "text": [
      "Mathy\n",
      "26\n",
      "Chennai\n",
      "Male\n"
     ]
    }
   ],
   "source": [
    "# Iterating over values\n",
    "for value in person.values():\n",
    "    print(value)\n"
   ]
  },
  {
   "cell_type": "code",
   "execution_count": 50,
   "metadata": {},
   "outputs": [
    {
     "name": "stdout",
     "output_type": "stream",
     "text": [
      "name : Mathy\n",
      "age : 26\n",
      "city : Chennai\n",
      "gender : Male\n"
     ]
    }
   ],
   "source": [
    "# Iterating over key-value pairs\n",
    "for key, value in person.items():\n",
    "    print(key, \":\", value)\n",
    "    "
   ]
  },
  {
   "cell_type": "markdown",
   "metadata": {},
   "source": [
    "### List comprehension\n",
    "- List comprehension is a concise way to create lists in Python. \n",
    "- It allows you to generate lists based on existing iterables, such as lists, tuples, or strings, with a compact syntax.\n",
    "- The basic structure of list comprehension consists of square brackets [] containing an expression followed by a for clause, optionally followed by additional for or if clauses. Here's a general syntax:\n",
    "\n",
    "- `[expression for item in iterable if condition]`\n",
    "\n",
    "- expression: The expression to be evaluated and added to the new list.\n",
    "- item: The variable representing each element in the iterable.\n",
    "- iterable: The existing iterable (e.g., list, tuple, string) to iterate over.\n",
    "- condition (optional): An optional condition that filters the elements.\n"
   ]
  },
  {
   "cell_type": "code",
   "execution_count": 8,
   "metadata": {},
   "outputs": [
    {
     "name": "stdout",
     "output_type": "stream",
     "text": [
      "[0, 2, 4, 6, 8]\n"
     ]
    }
   ],
   "source": [
    "x = []\n",
    "for i in range(10):\n",
    "    if (i%2 ==0):\n",
    "        x.append(i)\n",
    "print(x)        "
   ]
  },
  {
   "cell_type": "code",
   "execution_count": 10,
   "metadata": {},
   "outputs": [
    {
     "name": "stdout",
     "output_type": "stream",
     "text": [
      "[0, 2, 4, 6, 8]\n"
     ]
    }
   ],
   "source": [
    "\n",
    "# Using list comprehension to generate a list of even num\n",
    "x = [x for x in range(10) if (x%2 ==0)] \n",
    "print(x)"
   ]
  },
  {
   "cell_type": "markdown",
   "metadata": {},
   "source": [
    "`f(x) return some value`"
   ]
  },
  {
   "cell_type": "markdown",
   "metadata": {},
   "source": [
    "### User Defined Function Types:"
   ]
  },
  {
   "cell_type": "code",
   "execution_count": 22,
   "metadata": {},
   "outputs": [
    {
     "name": "stdout",
     "output_type": "stream",
     "text": [
      "Hello Jason\n"
     ]
    }
   ],
   "source": [
    "# Functions without arguments and without return value\n",
    "def userPrint():\n",
    "    name = \"Jason\"\n",
    "    print(\"Hello \" + name)\n",
    "userPrint()"
   ]
  },
  {
   "cell_type": "code",
   "execution_count": 26,
   "metadata": {},
   "outputs": [
    {
     "name": "stdout",
     "output_type": "stream",
     "text": [
      "Hello Jason\n"
     ]
    }
   ],
   "source": [
    "# userPrint -> User Defined Function\n",
    "# Functions with arguments but without return value\n",
    "def userPrint(arg):\n",
    "    # print -> Library Function, Has No Side Effect\n",
    "    print(\"Hello \" + arg)\n",
    "userPrint(\"Jason\")"
   ]
  },
  {
   "cell_type": "code",
   "execution_count": 23,
   "metadata": {},
   "outputs": [
    {
     "data": {
      "text/plain": [
       "'Hello Jason'"
      ]
     },
     "execution_count": 23,
     "metadata": {},
     "output_type": "execute_result"
    }
   ],
   "source": [
    "# Functions without arguments and with return value\n",
    "def userPrint():\n",
    "    name = \"Jason\"\n",
    "    return \"Hello \" + name\n",
    "name = userPrint()\n",
    "name"
   ]
  },
  {
   "cell_type": "code",
   "execution_count": 25,
   "metadata": {},
   "outputs": [
    {
     "data": {
      "text/plain": [
       "'Hello Jason'"
      ]
     },
     "execution_count": 25,
     "metadata": {},
     "output_type": "execute_result"
    }
   ],
   "source": [
    "# Functions with arguments and with return value\n",
    "def userPrint(name):\n",
    "    # It has Side Effect\n",
    "    return \"Hello \" + name\n",
    "name = userPrint(\"Jason\")\n",
    "name"
   ]
  },
  {
   "cell_type": "markdown",
   "metadata": {},
   "source": [
    "### User-defined functions\n",
    "User-defined functions in Python can generally be categorized into four types based on their purpose and return values:\n",
    "\n",
    "- Functions without arguments and without return value: These functions perform a specific task without taking any input arguments and do not return any value. They typically involve actions like printing messages or modifying global variables.\n",
    "\n",
    "```\n",
    "def greet():\n",
    "    print(\"Hello, world!\")\n",
    "\n",
    "greet()  # Output: Hello, world!\n",
    "```\n",
    "- Functions with arguments but without return value: These functions take input arguments, perform operations based on those arguments, but do not return any value.\n",
    "\n",
    "```\n",
    "def add(a, b):\n",
    "    print(\"The sum is:\", a + b)\n",
    "\n",
    "add(3, 5)  # Output: The sum is: 8\n",
    "```\n",
    "- Functions without arguments but with return value: These functions do not take any input arguments but return a value after performing some computations.\n",
    "\n",
    "```\n",
    "def get_pi():\n",
    "    return 3.14159\n",
    "\n",
    "pi = get_pi()\n",
    "print(\"The value of pi is:\", pi)  # Output: The value of pi is: 3.14159\n",
    "```\n",
    "\n",
    "- Functions with arguments and with return value: These functions take input arguments, perform operations based on those arguments, and return a value.\n",
    "\n",
    "```\n",
    "def multiply(a, b):\n",
    "    return a * b\n",
    "\n",
    "result = multiply(4, 7)\n",
    "print(\"The product is:\", result)  # Output: The product is: 28\n",
    "```\n",
    "\n",
    "These are the common types of user-defined functions in Python, each serving different purposes depending on the requirements of your program.\n",
    "\n",
    "\n",
    "\n",
    "\n",
    "\n",
    "\n"
   ]
  },
  {
   "cell_type": "markdown",
   "metadata": {},
   "source": [
    "## Built-in functions\n",
    "- Built-in functions in Python are functions that are available as part of the Python language itself. \n",
    "- They provide commonly used functionalities for performing various operations.\n",
    "- Built-in functions can be categorized into simple functions and mathematical functions based on their purpose. Here are some examples of both:\n",
    "\n",
    "### Simple Built-in Functions:\n",
    "\n",
    "- print(): Prints the specified message or object to the standard output.\n",
    "- len(): Returns the length of an object such as a string, list, tuple, or dictionary.\n",
    "- input(): Reads input from the user via the keyboard.\n",
    "- type(): Returns the type of an object.\n",
    "- range(): Generates a sequence of numbers.\n",
    "- sum(): Returns the sum of elements in an iterable.\n",
    "### Example:"
   ]
  },
  {
   "cell_type": "code",
   "execution_count": 47,
   "metadata": {},
   "outputs": [
    {
     "name": "stdout",
     "output_type": "stream",
     "text": [
      "5\n"
     ]
    }
   ],
   "source": [
    "my_list = [1, 2, 3, 4, 5]\n",
    "print(len(my_list))  # Output: 5"
   ]
  },
  {
   "cell_type": "markdown",
   "metadata": {},
   "source": [
    "### Mathematical Built-in Functions:\n",
    "\n",
    "- abs(): Returns the absolute value of a number.\n",
    "- max(): Returns the largest item in an iterable or the largest of two or more arguments.\n",
    "- min(): Returns the smallest item in an iterable or the smallest of two or more arguments.\n",
    "- round(): Rounds a floating-point number to a specified number of decimal places.\n",
    "- pow(): Raises a number to a specified power.\n",
    "### Example:"
   ]
  },
  {
   "cell_type": "code",
   "execution_count": 48,
   "metadata": {},
   "outputs": [
    {
     "name": "stdout",
     "output_type": "stream",
     "text": [
      "10\n",
      "-7\n"
     ]
    }
   ],
   "source": [
    "num_list = [3, -7, 2, -5, 8]\n",
    "print(abs(-10))      # Output: 10\n",
    "print(min(num_list)) # Output: 8"
   ]
  },
  {
   "cell_type": "markdown",
   "metadata": {},
   "source": [
    "### Recursion\n",
    "Recursion is a programming technique where a function calls itself in order to solve smaller instances of the same problem. It's based on the principle of divide and conquer, where a complex problem is divided into smaller, more manageable subproblems.\n",
    "\n",
    "In Python, recursion is implemented by defining a function that calls itself with modified arguments until a base case is reached, which stops the recursion. It's important to have a base case in recursive functions to prevent infinite recursion.\n",
    "\n"
   ]
  },
  {
   "cell_type": "markdown",
   "metadata": {},
   "source": [
    "### Factorial\n",
    "\n",
    "Factorial is a mathematical operation denoted by the symbol \"!\" that involves multiplying a given number by every natural number less than it down to 1. It's commonly used in combinatorics, probability, and mathematical analysis.\n",
    "\n",
    "For example, the factorial of 5, denoted as \"5!\", is calculated as follows:\n",
    "\n",
    "n! = n x n-1 .... n = 1 \n",
    "\n",
    "5! = 5 × 4 × 3 × 2 × 1 = 120\n"
   ]
  },
  {
   "cell_type": "code",
   "execution_count": 49,
   "metadata": {},
   "outputs": [
    {
     "name": "stdout",
     "output_type": "stream",
     "text": [
      "Factorial of 5: 120\n"
     ]
    }
   ],
   "source": [
    "def factorial(n):\n",
    "    # Base case: if n is 0 or 1, return 1\n",
    "    if n <= 1:\n",
    "        return 1\n",
    "    # Recursive case: return n times the factorial of (n-1)\n",
    "    else:\n",
    "        return n * factorial(n - 1)\n",
    "\n",
    "# Example usage\n",
    "result = factorial(5)\n",
    "print(\"Factorial of 5:\", result)  # Output: Factorial of 5: 120\n"
   ]
  },
  {
   "cell_type": "markdown",
   "metadata": {},
   "source": [
    "### Visualization of Factorial\n",
    "- n = 5, if 5 <=1 false, else 5 x fact(4),\n",
    "- n = 4, if 4 <= 1 false, else 4 x fact(3),\n",
    "- n = 3, if 3 <= 1 false, else 3 x fact(2),\n",
    "- n = 2, if 2 <= 1 false, else 2 x fact(1),\n",
    "- n = 1, if 1 <= 1 true and return 1,\n",
    "- it will solve the remaining in n = 2 and return 2 x 1, now fact 2 is soved,\n",
    "- it will solve the remaining in n = 3, and return 3 x fact(2) i.e 3 x (2) becasue we already computed and know the fact (2), now we get 6 as return value, becasue 3 x 2 = 6 \n",
    "- it will solve the remaining in n = 4, and return 4 x fact(3) i.e 4 x (6) becasue we already computed and know the fact (3), now we get 24 as return value, becasue 4 x 6 = 24\n",
    "- it will solve the remaining in n = 5, and return 5 x fact(4) i.e 5 x (24) becasue we already computed and know the fact (4), now we get 24 as return value, becasue 5 x 24 = 120 "
   ]
  },
  {
   "cell_type": "code",
   "execution_count": 50,
   "metadata": {},
   "outputs": [
    {
     "name": "stdout",
     "output_type": "stream",
     "text": [
      "Factorial of 5: 120\n"
     ]
    }
   ],
   "source": [
    "def factorial(n):\n",
    "    return 1 if n <= 1 else n * factorial(n - 1)\n",
    "\n",
    "# Example usage\n",
    "result = factorial(5)\n",
    "print(\"Factorial of 5:\", result)  # Output: Factorial of 5: 120"
   ]
  },
  {
   "attachments": {},
   "cell_type": "markdown",
   "metadata": {},
   "source": [
    "### fibonacci series\n",
    "\n",
    "The Fibonacci series is a sequence of numbers where each number is the sum of the two preceding ones, usually starting with 0 and 1. In mathematical terms, the Fibonacci sequence \\( F(n) \\) for \\( n \\geq 0 \\) is defined by the recurrence relation:\n",
    "\n",
    "F(n) = F(n-1) + F(n-2)\n",
    "\n",
    "with initial conditions:\n",
    "\n",
    "F(0) = 0, F(1) = 1\n",
    "\n",
    "So, the Fibonacci series looks like this: 0, 1, 1, 2, 3, 5, 8, 13, 21, 34, and so on. Each number is the sum of the two preceding ones.\n",
    "\n",
    "F(3) = F(2) + F(1) = 2\n"
   ]
  },
  {
   "cell_type": "code",
   "execution_count": 53,
   "metadata": {},
   "outputs": [
    {
     "name": "stdout",
     "output_type": "stream",
     "text": [
      "Fibonacci of 3: 2\n"
     ]
    }
   ],
   "source": [
    "def fibonacci(n):\n",
    "    # Base case: if n is 0 or 1, return n\n",
    "    if n <= 1:\n",
    "        return n\n",
    "    # Recursive case: return the sum of the previous two Fibonacci numbers\n",
    "    else:\n",
    "        return fibonacci(n - 1) + fibonacci(n - 2)\n",
    "\n",
    "# Example usage\n",
    "result = fibonacci(3)\n",
    "print(\"Fibonacci of 3:\", result)  # Output: Fibonacci of 7: 2\n"
   ]
  },
  {
   "cell_type": "markdown",
   "metadata": {},
   "source": [
    "- fib(3-1) + fib(3-2)\n",
    "- fib(3-1) -> fib(2) -> fib(2-1) + fib(2-2) -> fib(1) return 1,\n",
    "- same go to next after the `+` operand i.e\n",
    "- fib(2-2) which is fib(0) -> return 0,\n",
    "- finally found fib(2) -> fib(2-1) + fib(2-2) as 1 + 0 = 1.\n",
    "- fib(3-1) ->  1.\n",
    "\n",
    "\n",
    "\n",
    "- fib(3-2) return fib(2-1) + fib(2-2)\n",
    "- fib(2) -> fib(2-1) + fib(2-2) -> fib(1) return 1,\n",
    "- same go to next after the `+` operand i.e\n",
    "- fib(2-2) which is fib(0) -> return 0,\n",
    "- finally found fib(2) -> fib(2-1) + fib(2-2) as 1 + 0 = 1, \n",
    "- fib(3-2) ->  1.\n",
    "\n",
    "- finally fib(3-1) + fib(3-2) = 1 + 1 = 2"
   ]
  },
  {
   "cell_type": "code",
   "execution_count": 40,
   "metadata": {},
   "outputs": [
    {
     "name": "stdout",
     "output_type": "stream",
     "text": [
      "Fibonacci of 7: 13\n"
     ]
    }
   ],
   "source": [
    "def fibonacci(n):\n",
    "    return n if n <= 1 else fibonacci(n - 1) + fibonacci(n - 2)\n",
    "\n",
    "# Example usage\n",
    "result = fibonacci(7)\n",
    "print(\"Fibonacci of 7:\", result)  # Output: Fibonacci of 7: 13\n"
   ]
  },
  {
   "cell_type": "markdown",
   "metadata": {},
   "source": [
    "<div class=\"alert alert-block alert-info\">\n",
    "    \n",
    "<b>Any Questions?</b> \n",
    "    \n",
    "</div>"
   ]
  },
  {
   "cell_type": "markdown",
   "metadata": {},
   "source": [
    " <div class=\"alert alert-block alert-info\">\n",
    "\n",
    "<h2>References</h2>\n",
    "\n",
    "<li>1. Python Programming for Beginners: Skyrocket Your Code and Master Python in Less than a Week. Discover the Foolproof, Practical Route to Uncover Insider Hacks, Unlock New Opportunities, and Revolution Kindle Edition by Kit Jackson (Author), 31 May 2023</li> \n",
    "<li>2. Python Programming for Beginners,ISBN-13-979-8870875248, Narry Prince, 2023</li> \n",
    "    \n",
    "</div>"
   ]
  },
  {
   "cell_type": "markdown",
   "metadata": {},
   "source": [
    "\n",
    "\n",
    "\n",
    "<div class=\"alert alert-block alert-info\">\n",
    "    \n",
    "# For More\n",
    "\n",
    "[**Refer the Lectures/Tutorials GitHub Page**](https://github.com/PandiaJason/Python)\n",
    "\n",
    "    \n",
    "</div>\n",
    "\n"
   ]
  }
 ],
 "metadata": {
  "kaggle": {
   "accelerator": "none",
   "dataSources": [],
   "dockerImageVersionId": 30664,
   "isGpuEnabled": false,
   "isInternetEnabled": false,
   "language": "python",
   "sourceType": "notebook"
  },
  "kernelspec": {
   "display_name": "Python 3 (ipykernel)",
   "language": "python",
   "name": "python3"
  },
  "language_info": {
   "codemirror_mode": {
    "name": "ipython",
    "version": 3
   },
   "file_extension": ".py",
   "mimetype": "text/x-python",
   "name": "python",
   "nbconvert_exporter": "python",
   "pygments_lexer": "ipython3",
   "version": "3.11.2"
  }
 },
 "nbformat": 4,
 "nbformat_minor": 4
}
