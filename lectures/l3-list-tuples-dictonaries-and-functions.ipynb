{
 "cells": [
  {
   "cell_type": "markdown",
   "metadata": {},
   "source": [
    "![College Logo](../misc/college-logo-1024x245.png)"
   ]
  },
  {
   "cell_type": "markdown",
   "metadata": {},
   "source": [
    "\n",
    "\n",
    "\n",
    "<div class=\"alert alert-block alert-info\">\n",
    "    \n",
    "# Lecture notes on Python Programming\n",
    "\n",
    "**By Jason Pandian**<br> *Assistant Professor, Department of Information Technology*\n",
    "    \n",
    "</div>\n",
    "\n"
   ]
  },
  {
   "cell_type": "markdown",
   "metadata": {},
   "source": [
    "# LISTS, TUPLES DICTIONARIES AND FUNCTIONS\n",
    "Lists: list operations, list slices, list methods, list loop, mutability, aliasing, cloning lists, list parameters- Tuples: tuple assignment, tuple as return value- Dictionaries: operations and methods, advanced list processing – list comprehension. Functions and User Defined Functions: Simple and Mathematical Built–in Functions, Recursion -Illustrative Problems"
   ]
  },
  {
   "cell_type": "markdown",
   "metadata": {
    "_cell_guid": "b1076dfc-b9ad-4769-8c92-a6c4dae69d19",
    "_uuid": "8f2839f25d086af736a60e9eeb907d3b93b6e0e5",
    "execution": {
     "iopub.execute_input": "2024-02-29T15:29:33.880275Z",
     "iopub.status.busy": "2024-02-29T15:29:33.879856Z",
     "iopub.status.idle": "2024-02-29T15:29:33.923139Z",
     "shell.execute_reply": "2024-02-29T15:29:33.920959Z",
     "shell.execute_reply.started": "2024-02-29T15:29:33.880237Z"
    }
   },
   "source": [
    "### What is List?\n",
    "- In Python, a list is a versatile data structure used to store a collection of items. \n",
    "- Lists are ordered, mutable (modifiable), and can contain elements of different data types, including other lists. - They are denoted by square brackets [], with elements separated by commas."
   ]
  },
  {
   "cell_type": "markdown",
   "metadata": {},
   "source": [
    "### List Basic Examples"
   ]
  },
  {
   "cell_type": "code",
   "execution_count": 2,
   "metadata": {},
   "outputs": [
    {
     "name": "stdout",
     "output_type": "stream",
     "text": [
      "1\n",
      "['pear', 'banana', 'orange', 'grape']\n",
      "[1, 2, 3, 4, 5, 'pear', 'banana', 'orange', 'grape']\n",
      "[2, 3]\n",
      "5\n"
     ]
    }
   ],
   "source": [
    "# Define a list containing integers\n",
    "my_list = [1, 2, 3, 4, 5]\n",
    "\n",
    "# Accessing elements of a list using index\n",
    "print(my_list[0])  # Output: 1\n",
    "\n",
    "# Define a list containing strings\n",
    "fruits = ['apple', 'banana', 'orange', 'grape']\n",
    "\n",
    "# Modifying elements of a list\n",
    "fruits[0] = 'pear'\n",
    "print(fruits)      # Output: ['pear', 'banana', 'orange', 'grape']\n",
    "\n",
    "# Define a list containing mixed data types\n",
    "mixed_list = [1, 'hello', 3.14, True]\n",
    "\n",
    "# List concatenation\n",
    "new_list = my_list + fruits\n",
    "print(new_list)    # Output: [1, 2, 3, 4, 5, 'pear', 'banana', 'orange', 'grape']\n",
    "\n",
    "# List slicing\n",
    "print(my_list[1:3])  # Output: [2, 3]\n",
    "\n",
    "# Length of a list\n",
    "print(len(my_list))  # Output: 5\n",
    "\n",
    "# Nested lists (list containing lists)\n",
    "nested_list = [[1, 2, 3], [4, 5, 6], [7, 8, 9]]"
   ]
  },
  {
   "cell_type": "markdown",
   "metadata": {},
   "source": [
    "### List Operations\n",
    "Appending Elements\n",
    "append(): Adds an element to the end of the list."
   ]
  },
  {
   "cell_type": "code",
   "execution_count": 1,
   "metadata": {},
   "outputs": [
    {
     "name": "stdout",
     "output_type": "stream",
     "text": [
      "[1, 2, 3, 4]\n"
     ]
    }
   ],
   "source": [
    "my_list = [1, 2, 3]\n",
    "my_list.append(4)\n",
    "print(my_list)  # Output: [1, 2, 3, 4]"
   ]
  },
  {
   "cell_type": "markdown",
   "metadata": {},
   "source": [
    "## Extending Lists:\n",
    "\n",
    "extend(): Appends elements from another list to the end of the list."
   ]
  },
  {
   "cell_type": "code",
   "execution_count": 2,
   "metadata": {},
   "outputs": [
    {
     "name": "stdout",
     "output_type": "stream",
     "text": [
      "[1, 2, 3, 4, 5, 6]\n"
     ]
    }
   ],
   "source": [
    "my_list = [1, 2, 3]\n",
    "another_list = [4, 5, 6]\n",
    "my_list.extend(another_list)\n",
    "print(my_list)  # Output: [1, 2, 3, 4, 5, 6]\n"
   ]
  },
  {
   "cell_type": "markdown",
   "metadata": {},
   "source": [
    "## Inserting Elements:\n",
    "insert(): Inserts an element at a specified position.\n"
   ]
  },
  {
   "cell_type": "code",
   "execution_count": 3,
   "metadata": {},
   "outputs": [
    {
     "name": "stdout",
     "output_type": "stream",
     "text": [
      "[1, 5, 2, 3]\n"
     ]
    }
   ],
   "source": [
    "my_list = [1, 2, 3]\n",
    "my_list.insert(1, 5)\n",
    "print(my_list)  # Output: [1, 5, 2, 3]"
   ]
  },
  {
   "cell_type": "markdown",
   "metadata": {},
   "source": [
    "\n",
    "## Removing Elements:\n",
    "\n",
    "remove(): Removes the first occurrence of a specified value."
   ]
  },
  {
   "cell_type": "code",
   "execution_count": 4,
   "metadata": {},
   "outputs": [
    {
     "name": "stdout",
     "output_type": "stream",
     "text": [
      "[1, 2, 4, 3]\n"
     ]
    }
   ],
   "source": [
    "\n",
    "my_list = [1, 2, 3, 4, 3]\n",
    "my_list.remove(3)\n",
    "print(my_list)  # Output: [1, 2, 4, 3]\n"
   ]
  },
  {
   "cell_type": "markdown",
   "metadata": {},
   "source": [
    "\n",
    "## Popping Elements:\n",
    "\n",
    "pop(): Removes and returns the element at a specified index. If no index is specified, it removes and returns the last element."
   ]
  },
  {
   "cell_type": "code",
   "execution_count": 5,
   "metadata": {},
   "outputs": [
    {
     "name": "stdout",
     "output_type": "stream",
     "text": [
      "[1, 3]\n",
      "2\n"
     ]
    }
   ],
   "source": [
    "my_list = [1, 2, 3]\n",
    "popped_element = my_list.pop(1)\n",
    "print(my_list)       # Output: [1, 3]\n",
    "print(popped_element)  # Output: 2\n"
   ]
  },
  {
   "cell_type": "markdown",
   "metadata": {},
   "source": [
    "## Indexing:\n",
    "\n",
    "index(): Returns the index of the first occurrence of a specified value.\n"
   ]
  },
  {
   "cell_type": "code",
   "execution_count": 6,
   "metadata": {},
   "outputs": [
    {
     "name": "stdout",
     "output_type": "stream",
     "text": [
      "2\n"
     ]
    }
   ],
   "source": [
    "my_list = [1, 2, 3, 4, 3]\n",
    "index = my_list.index(3)\n",
    "print(index)  # Output: 2"
   ]
  },
  {
   "cell_type": "markdown",
   "metadata": {},
   "source": [
    "## Counting:\n",
    "count(): Returns the number of occurrences of a specified value."
   ]
  },
  {
   "cell_type": "code",
   "execution_count": 7,
   "metadata": {},
   "outputs": [
    {
     "name": "stdout",
     "output_type": "stream",
     "text": [
      "2\n"
     ]
    }
   ],
   "source": [
    "\n",
    "my_list = [1, 2, 3, 4, 3]\n",
    "count = my_list.count(3)\n",
    "print(count)  # Output: 2\n"
   ]
  },
  {
   "cell_type": "markdown",
   "metadata": {},
   "source": [
    "## Sorting :\n",
    "\n",
    "sort(): Sorts the list in ascending order."
   ]
  },
  {
   "cell_type": "code",
   "execution_count": 8,
   "metadata": {},
   "outputs": [
    {
     "name": "stdout",
     "output_type": "stream",
     "text": [
      "[1, 2, 3, 4]\n"
     ]
    }
   ],
   "source": [
    "my_list = [3, 1, 4, 2]\n",
    "my_list.sort()\n",
    "print(my_list)  # Output: [1, 2, 3, 4]"
   ]
  },
  {
   "cell_type": "markdown",
   "metadata": {},
   "source": [
    "## Reversing:\n",
    "reverse(): Reverses the order of the elements in the list."
   ]
  },
  {
   "cell_type": "markdown",
   "metadata": {},
   "source": [
    "my_list = [1, 2, 3, 4]\n",
    "my_list.reverse()\n",
    "print(my_list)  # Output: [4, 3, 2, 1]"
   ]
  },
  {
   "cell_type": "markdown",
   "metadata": {},
   "source": [
    "## Copying Lists:\n",
    "\n",
    "copy(): Returns a shallow copy of the list."
   ]
  },
  {
   "cell_type": "code",
   "execution_count": 9,
   "metadata": {},
   "outputs": [
    {
     "name": "stdout",
     "output_type": "stream",
     "text": [
      "[1, 2, 3]\n"
     ]
    }
   ],
   "source": [
    "my_list = [1, 2, 3]\n",
    "copied_list = my_list.copy()\n",
    "print(copied_list)  # Output: [1, 2, 3]"
   ]
  },
  {
   "cell_type": "code",
   "execution_count": 1,
   "metadata": {},
   "outputs": [
    {
     "name": "stdout",
     "output_type": "stream",
     "text": [
      "After appending 6: [1, 2, 3, 4, 5, 6]\n",
      "After extending with [7, 8, 9]: [1, 2, 3, 4, 5, 6, 7, 8, 9]\n",
      "After inserting 10 at index 2: [1, 2, 10, 3, 4, 5, 6, 7, 8, 9]\n",
      "After removing the first occurrence of 3: [1, 2, 10, 4, 5, 6, 7, 8, 9]\n",
      "Popped element: 5\n",
      "After popping the element at index 4: [1, 2, 10, 4, 6, 7, 8, 9]\n",
      "Index of 2: 1\n",
      "Count of 5: 0\n",
      "After sorting: [1, 2, 4, 6, 7, 8, 9, 10]\n",
      "After reversing: [10, 9, 8, 7, 6, 4, 2, 1]\n",
      "Copied list: [10, 9, 8, 7, 6, 4, 2, 1]\n"
     ]
    }
   ],
   "source": [
    "# Define a list\n",
    "my_list = [1, 2, 3, 4, 5]\n",
    "\n",
    "# Append method: adds an element to the end of the list\n",
    "my_list.append(6)\n",
    "print(\"After appending 6:\", my_list)\n",
    "\n",
    "# Extend method: appends elements from another list to the end of the list\n",
    "another_list = [7, 8, 9]\n",
    "my_list.extend(another_list)\n",
    "print(\"After extending with [7, 8, 9]:\", my_list)\n",
    "\n",
    "# Insert method: inserts an element at a specified position\n",
    "my_list.insert(2, 10)\n",
    "print(\"After inserting 10 at index 2:\", my_list)\n",
    "\n",
    "# Remove method: removes the first occurrence of a specified value\n",
    "my_list.remove(3)\n",
    "print(\"After removing the first occurrence of 3:\", my_list)\n",
    "\n",
    "# Pop method: removes and returns the element at a specified index, or the last element if no index is specified\n",
    "popped_element = my_list.pop(4)\n",
    "print(\"Popped element:\", popped_element)\n",
    "print(\"After popping the element at index 4:\", my_list)\n",
    "\n",
    "# Index method: returns the index of the first occurrence of a specified value\n",
    "index_of_2 = my_list.index(2)\n",
    "print(\"Index of 2:\", index_of_2)\n",
    "\n",
    "# Count method: returns the number of occurrences of a specified value\n",
    "count_of_5 = my_list.count(5)\n",
    "print(\"Count of 5:\", count_of_5)\n",
    "\n",
    "# Sort method: sorts the list in ascending order\n",
    "my_list.sort()\n",
    "print(\"After sorting:\", my_list)\n",
    "\n",
    "# Reverse method: reverses the order of the elements in the list\n",
    "my_list.reverse()\n",
    "print(\"After reversing:\", my_list)\n",
    "\n",
    "# Copy method: returns a shallow copy of the list\n",
    "copied_list = my_list.copy()\n",
    "print(\"Copied list:\", copied_list)\n"
   ]
  },
  {
   "cell_type": "markdown",
   "metadata": {},
   "source": [
    "<div class=\"alert alert-block alert-info\">\n",
    "    \n",
    "<b>Any Questions?</b> \n",
    "    \n",
    "</div>"
   ]
  },
  {
   "cell_type": "markdown",
   "metadata": {},
   "source": [
    "\n",
    "\n",
    "\n",
    "<div class=\"alert alert-block alert-info\">\n",
    "    \n",
    "# For More\n",
    "\n",
    "[**Refer the Lectures/Tutorials GitHub Page**](https://github.com/PandiaJason/Python)\n",
    "\n",
    "    \n",
    "</div>\n",
    "\n"
   ]
  }
 ],
 "metadata": {
  "kaggle": {
   "accelerator": "none",
   "dataSources": [],
   "dockerImageVersionId": 30664,
   "isGpuEnabled": false,
   "isInternetEnabled": false,
   "language": "python",
   "sourceType": "notebook"
  },
  "kernelspec": {
   "display_name": "Python 3 (ipykernel)",
   "language": "python",
   "name": "python3"
  },
  "language_info": {
   "codemirror_mode": {
    "name": "ipython",
    "version": 3
   },
   "file_extension": ".py",
   "mimetype": "text/x-python",
   "name": "python",
   "nbconvert_exporter": "python",
   "pygments_lexer": "ipython3",
   "version": "3.11.2"
  }
 },
 "nbformat": 4,
 "nbformat_minor": 4
}
