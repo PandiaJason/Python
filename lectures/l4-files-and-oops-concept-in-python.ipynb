{
 "cells": [
  {
   "cell_type": "markdown",
   "metadata": {},
   "source": [
    "\n",
    "\n",
    "\n",
    "<div class=\"alert alert-block alert-info\">\n",
    "    \n",
    "# Lecture notes on Python Programming\n",
    "\n",
    "**By Jason Pandian**<br> *Assistant Professor, Department of Information Technology*\n",
    "    \n",
    "</div>\n",
    "\n"
   ]
  },
  {
   "cell_type": "markdown",
   "metadata": {},
   "source": [
    "#  FILES AND OOPS CONCEPT IN PYTHON\n",
    "Files, Text files, reading and writing files-format operator; Files and exception handling -Introduction to Object Oriented Programming – Basic principles of Object Oriented Programming in Python – Class definition-Object Creation - Inheritance, Composition, Operator Overloading."
   ]
  },
  {
   "cell_type": "markdown",
   "metadata": {},
   "source": [
    "\n",
    "- In Python, file operations are straightforward and intuitive.\n",
    "- You can open, read, write, and manipulate files easily using built-in functions and methods."
   ]
  },
  {
   "cell_type": "markdown",
   "metadata": {},
   "source": [
    "### Opening and Reading Files:\n",
    "You can open a file using the open() function and then read its contents using various methods.\n",
    "\n",
    "## Example 1: Reading a Text File"
   ]
  },
  {
   "cell_type": "code",
   "execution_count": 28,
   "metadata": {},
   "outputs": [],
   "source": [
    "!touch example.txt"
   ]
  },
  {
   "cell_type": "code",
   "execution_count": 29,
   "metadata": {},
   "outputs": [
    {
     "name": "stdout",
     "output_type": "stream",
     "text": [
      "Hello Students, This is python class.\n",
      "This is unit four.\n"
     ]
    }
   ],
   "source": [
    "# Open a text file in read mode\n",
    "with open('example.txt', 'r') as file:\n",
    "    # Read the entire file content\n",
    "    content = file.read()\n",
    "    print(content)\n"
   ]
  },
  {
   "cell_type": "markdown",
   "metadata": {},
   "source": [
    "## Example 2: Reading Lines from a Text File\n"
   ]
  },
  {
   "cell_type": "code",
   "execution_count": 30,
   "metadata": {},
   "outputs": [
    {
     "name": "stdout",
     "output_type": "stream",
     "text": [
      "HELLO STUDENTS, THIS IS PYTHON CLASS.\n",
      "\n",
      "THIS IS UNIT FOUR.\n"
     ]
    }
   ],
   "source": [
    "# Open a text file in read mode\n",
    "with open('example.txt', 'r') as file:\n",
    "    # Read lines from the file\n",
    "    lines = file.readlines()\n",
    "    for line in lines:\n",
    "        print(line.upper())  # Remove newline character\n"
   ]
  },
  {
   "cell_type": "markdown",
   "metadata": {},
   "source": [
    "### Writing to Files:\n",
    "You can write data to a file using the write() method or other methods like writelines().\n",
    "\n",
    "## Example 3: Writing to a Text File"
   ]
  },
  {
   "cell_type": "code",
   "execution_count": 32,
   "metadata": {},
   "outputs": [],
   "source": [
    "!touch output.txt"
   ]
  },
  {
   "cell_type": "code",
   "execution_count": 38,
   "metadata": {},
   "outputs": [
    {
     "name": "stdin",
     "output_type": "stream",
     "text": [
      "Write the context lokesh\n"
     ]
    }
   ],
   "source": [
    "# Open a text file in write mode\n",
    "with open('output.txt', 'w') as file:\n",
    "    # Write data to the file\n",
    "    file.write(input(\"Write the context\"))\n",
    "    "
   ]
  },
  {
   "cell_type": "markdown",
   "metadata": {},
   "source": [
    "### File Formats and Operations:\n",
    "Python can handle various file formats and operations, including text files, CSV files, JSON files, etc.\n",
    "\n",
    "## Example 4: Reading and Writing CSV Files"
   ]
  },
  {
   "cell_type": "code",
   "execution_count": 4,
   "metadata": {},
   "outputs": [
    {
     "name": "stdout",
     "output_type": "stream",
     "text": [
      "['Name', 'Age']\n",
      "['John', '25']\n",
      "['Alice', '30']\n"
     ]
    }
   ],
   "source": [
    "import csv\n",
    "\n",
    "# Writing data to a CSV file\n",
    "with open('data.csv', 'w', newline='') as csvfile:\n",
    "    writer = csv.writer(csvfile)\n",
    "    writer.writerow(['Name', 'Age'])\n",
    "    writer.writerow(['John', 25])\n",
    "    writer.writerow(['Alice', 30])\n",
    "\n",
    "# Reading data from a CSV file\n",
    "with open('data.csv', 'r') as csvfile:\n",
    "    reader = csv.reader(csvfile)\n",
    "    for row in reader:\n",
    "        print(row)\n"
   ]
  },
  {
   "cell_type": "markdown",
   "metadata": {},
   "source": [
    "## Example 5: Reading and Writing JSON Files\n"
   ]
  },
  {
   "cell_type": "code",
   "execution_count": 5,
   "metadata": {},
   "outputs": [
    {
     "name": "stdout",
     "output_type": "stream",
     "text": [
      "{'name': 'John', 'age': 30}\n"
     ]
    }
   ],
   "source": [
    "import json\n",
    "\n",
    "# Writing data to a JSON file\n",
    "data = {'name': 'John', 'age': 30}\n",
    "with open('data.json', 'w') as jsonfile:\n",
    "    json.dump(data, jsonfile)\n",
    "\n",
    "# Reading data from a JSON file\n",
    "with open('data.json', 'r') as jsonfile:\n",
    "    data = json.load(jsonfile)\n",
    "    print(data)\n"
   ]
  },
  {
   "cell_type": "markdown",
   "metadata": {},
   "source": [
    "- These examples cover basic file operations and demonstrate how to read and write text, CSV, and JSON files in Python.\n",
    "- Remember to handle exceptions and close files properly after operations to avoid resource leaks."
   ]
  },
  {
   "cell_type": "markdown",
   "metadata": {},
   "source": [
    "### 1. Files in Python\n",
    "In Python, files are objects that allow you to interact with external files on your computer's file system. You can perform various operations on files, such as reading from them, writing to them, and appending data to them."
   ]
  },
  {
   "cell_type": "markdown",
   "metadata": {},
   "source": [
    "### 2. Text Files\n",
    "Text files are files that contain human-readable text. They are commonly used for storing data that can be easily interpreted by both humans and computers. Text files can be created, read, written to, and appended in Python."
   ]
  },
  {
   "cell_type": "markdown",
   "metadata": {},
   "source": [
    "### Opening a File\n",
    "You can open a file using the open() function. It takes two arguments: the filename and the mode in which to open the file.\n",
    "```\n",
    "file = open(\"example.txt\", \"r\")  # Opens \"example.txt\" in read mode\n",
    "\n",
    "```\n",
    "### Closing a File\n",
    "After you've finished working with a file, it's essential to close it using the close() method. This ensures that any resources associated with the file are released.\n",
    "\n",
    "```\n",
    "file.close()\n",
    "\n",
    "```\n",
    "\n",
    "Using `with` is recommended as it ensures that files are always closed properly, even if exceptions occur during file operations."
   ]
  },
  {
   "cell_type": "code",
   "execution_count": null,
   "metadata": {},
   "outputs": [],
   "source": [
    "# Open the file\n",
    "file = open(\"example.txt\", \"r\")\n",
    "\n",
    "# Read data from the file\n",
    "data = file.read()\n",
    "print(data)\n",
    "\n",
    "# Close the file\n",
    "file.close()\n"
   ]
  },
  {
   "cell_type": "markdown",
   "metadata": {},
   "source": [
    "### 3. Reading and Writing Files\n",
    "Reading and writing files in Python involves several modes, each with its specific behavior:\n",
    "\n",
    "- `r` (Read Mode)\n",
    "- Opens a file for reading.\n",
    "- Raises an error if the file does not exist.\n",
    "- The file pointer is placed at the beginning of the file.\n"
   ]
  },
  {
   "cell_type": "code",
   "execution_count": null,
   "metadata": {},
   "outputs": [],
   "source": [
    "with open('example.txt', 'r') as file:\n",
    "    data = file.read()\n",
    "    print(data)\n"
   ]
  },
  {
   "cell_type": "markdown",
   "metadata": {},
   "source": [
    "- `r+` (Read/Write Mode)\n",
    "- Opens a file for both reading and writing.\n",
    "- Raises an error if the file does not exist.\n",
    "- The file pointer is placed at the beginning of the file."
   ]
  },
  {
   "cell_type": "code",
   "execution_count": null,
   "metadata": {},
   "outputs": [],
   "source": [
    "with open('example.txt', 'r+') as file:\n",
    "    data = file.read()\n",
    "    print(data)\n",
    "    file.write(\"New data\")\n"
   ]
  },
  {
   "cell_type": "markdown",
   "metadata": {},
   "source": [
    "- `w` (Write Mode)\n",
    "- Opens a file for writing.\n",
    "- Creates a new file if it does not exist.\n",
    "- Truncates the file if it exists.\n",
    "- The file pointer is placed at the beginning of the file."
   ]
  },
  {
   "cell_type": "code",
   "execution_count": null,
   "metadata": {},
   "outputs": [],
   "source": [
    "with open('example.txt', 'w') as file:\n",
    "    file.write(\"Hello, world!\\n\")\n",
    "    file.write(\"This is a sample text.\")\n"
   ]
  },
  {
   "cell_type": "markdown",
   "metadata": {},
   "source": [
    "- `w+` (Write/Read Mode)\n",
    "- Opens a file for both writing and reading.\n",
    "- Creates a new file if it does not exist.\n",
    "- Truncates the file if it exists.\n",
    "- The file pointer is placed at the beginning of the file."
   ]
  },
  {
   "cell_type": "code",
   "execution_count": null,
   "metadata": {},
   "outputs": [],
   "source": [
    "with open('example.txt', 'w+') as file:\n",
    "    file.write(\"Hello, world!\\n\")\n",
    "    file.seek(0)\n",
    "    data = file.read()\n",
    "    print(data)\n"
   ]
  },
  {
   "cell_type": "markdown",
   "metadata": {},
   "source": [
    "- `a` (Append Mode)\n",
    "- Opens a file for appending.\n",
    "- Creates a new file if it does not exist.\n",
    "- The file pointer is placed at the end of the file."
   ]
  },
  {
   "cell_type": "code",
   "execution_count": null,
   "metadata": {},
   "outputs": [],
   "source": [
    "with open('example.txt', 'a') as file:\n",
    "    file.write(\"\\nThis is appended data.\")\n"
   ]
  },
  {
   "cell_type": "code",
   "execution_count": null,
   "metadata": {},
   "outputs": [],
   "source": [
    "- `a+` (Append/Read Mode)\n",
    "- Opens a file for both appending and reading.\n",
    "- Creates a new file if it does not exist.\n",
    "- The file pointer is placed at the end of the file."
   ]
  },
  {
   "cell_type": "code",
   "execution_count": null,
   "metadata": {},
   "outputs": [],
   "source": [
    "with open('example.txt', 'a+') as file:\n",
    "    file.write(\"\\nThis is appended data.\")\n",
    "    file.seek(0)\n",
    "    data = file.read()\n",
    "    print(data)\n"
   ]
  },
  {
   "cell_type": "markdown",
   "metadata": {},
   "source": [
    "File format operators in Python are used to format strings before writing them to a file. These operators allow you to insert values into strings in a specific format, making it easier to generate structured text output for files. The format operators include %s, %d, %f, %x, %o, %e, %c, and %%, each serving a specific purpose:\n",
    "\n",
    "- %s: String\n",
    "- - Used to insert a string into the formatted string.\n",
    "- - Example: \"Hello, %s!\" % \"world\"\n",
    "- %d, %i: Integer\n",
    "- - Inserts an integer into the formatted string.\n",
    "- - Example: \"The answer is %d.\" % 42\n",
    "- %f, %F: Floating point number\n",
    "- - Inserts a floating-point number into the formatted string.\n",
    "- - Example: \"Pi is approximately %f.\" % 3.14159\n",
    "- %x, %X: Hexadecimal\n",
    "- - Inserts an integer in hexadecimal format into the formatted string.\n",
    "- - Example: \"The hexadecimal representation of 10 is %x.\" % 10\n",
    "- %o, %O: Octal\n",
    "- - Inserts an integer in octal format into the formatted string.\n",
    "- - Example: \"The octal representation of 10 is %o.\" % 10\n",
    "- %e, %E: Exponential\n",
    "- - Inserts a floating point number in exponential notation into the formatted string.\n",
    "- - Example: \"Avogadro's number is %e.\" % 6.022e23\n",
    "- %c: Character\n",
    "- - Inserts a single character into the formatted string.\n",
    "- - Example: \"The first letter of the alphabet is %c.\" % 'A'\n",
    "- %%: Percentage\n",
    "- - Inserts a literal % character into the formatted string.\n",
    "- - Example: \"I got 90%% on my test.\""
   ]
  },
  {
   "cell_type": "markdown",
   "metadata": {},
   "source": [
    "### Example\n",
    "Let's say you want to generate a formatted string with some data and write it to a file using these format operators:"
   ]
  },
  {
   "cell_type": "code",
   "execution_count": 1,
   "metadata": {},
   "outputs": [],
   "source": [
    "# Data\n",
    "name = \"Alice\"\n",
    "age = 30\n",
    "height = 5.8\n",
    "\n",
    "# Format string using format operators\n",
    "formatted_string = \"Name: %s, Age: %d, Height: %.2f\" % (name, age, height)\n",
    "\n",
    "# Writing formatted string to a file\n",
    "with open('formatted_output.txt', 'w') as file:\n",
    "    file.write(formatted_string)\n"
   ]
  },
  {
   "cell_type": "markdown",
   "metadata": {},
   "source": [
    "### Exception Handling"
   ]
  },
  {
   "cell_type": "code",
   "execution_count": 3,
   "metadata": {},
   "outputs": [
    {
     "name": "stdout",
     "output_type": "stream",
     "text": [
      "An error occurred: division by zero\n",
      "Check the code\n"
     ]
    }
   ],
   "source": [
    "try:\n",
    "    # Code that may raise exceptions\n",
    "    result = 10 / 0  # This will raise a ZeroDivisionError\n",
    "except Exception as e:\n",
    "    # Handling any exception that occurs\n",
    "    print(\"An error occurred:\", e)\n",
    "finally:\n",
    "    print(\"Check the code\")"
   ]
  },
  {
   "cell_type": "markdown",
   "metadata": {},
   "source": [
    "### Opening a File\n",
    "To open a file, you can use the open() function. This function can raise various exceptions, such as FileNotFoundError if the file does not exist or PermissionError if you don't have the required permissions to open the file."
   ]
  },
  {
   "cell_type": "code",
   "execution_count": null,
   "metadata": {},
   "outputs": [],
   "source": [
    "try:\n",
    "    with open(\"example.txt\", \"r\") as file:\n",
    "        data = file.read()\n",
    "        print(data)\n",
    "except FileNotFoundError:\n",
    "    print(\"File not found.\")\n",
    "except PermissionError:\n",
    "    print(\"Permission denied to open the file.\")\n",
    "except Exception as e:\n",
    "    print(\"An error occurred:\", e)\n"
   ]
  },
  {
   "cell_type": "markdown",
   "metadata": {},
   "source": [
    "### Reading from a File\n",
    "Reading from a file can also raise exceptions, such as IOError if there's an issue reading from the file or UnicodeDecodeError if the file contains non-text data"
   ]
  },
  {
   "cell_type": "code",
   "execution_count": null,
   "metadata": {},
   "outputs": [],
   "source": [
    "try:\n",
    "    with open(\"example.txt\", \"r\") as file:\n",
    "        data = file.read()\n",
    "        print(data)\n",
    "except IOError:\n",
    "    print(\"Error reading from the file.\")\n",
    "except UnicodeDecodeError:\n",
    "    print(\"Error decoding file contents.\")\n",
    "except Exception as e:\n",
    "    print(\"An error occurred:\", e)\n"
   ]
  },
  {
   "cell_type": "markdown",
   "metadata": {},
   "source": [
    "### Writing to a File\n",
    "When writing to a file, exceptions like IOError or PermissionError might occur if there are issues with file permissions or disk space."
   ]
  },
  {
   "cell_type": "code",
   "execution_count": null,
   "metadata": {},
   "outputs": [],
   "source": [
    "try:\n",
    "    with open(\"example.txt\", \"w\") as file:\n",
    "        file.write(\"Hello, world!\")\n",
    "except IOError:\n",
    "    print(\"Error writing to the file.\")\n",
    "except PermissionError:\n",
    "    print(\"Permission denied to write to the file.\")\n",
    "except Exception as e:\n",
    "    print(\"An error occurred:\", e)\n"
   ]
  },
  {
   "cell_type": "markdown",
   "metadata": {},
   "source": [
    "### Closing a File\n",
    "Although using the with statement handles file closure automatically, you can still handle exceptions related to file closure explicitly."
   ]
  },
  {
   "cell_type": "code",
   "execution_count": null,
   "metadata": {},
   "outputs": [],
   "source": [
    "try:\n",
    "    file = open(\"example.txt\", \"r\")\n",
    "    try:\n",
    "        data = file.read()\n",
    "        print(data)\n",
    "    finally:\n",
    "        file.close()\n",
    "except FileNotFoundError:\n",
    "    print(\"File not found.\")\n",
    "except Exception as e:\n",
    "    print(\"An error occurred:\", e)\n"
   ]
  }
 ],
 "metadata": {
  "kaggle": {
   "accelerator": "none",
   "dataSources": [],
   "dockerImageVersionId": 30664,
   "isGpuEnabled": false,
   "isInternetEnabled": false,
   "language": "python",
   "sourceType": "notebook"
  },
  "kernelspec": {
   "display_name": "Python 3 (ipykernel)",
   "language": "python",
   "name": "python3"
  },
  "language_info": {
   "codemirror_mode": {
    "name": "ipython",
    "version": 3
   },
   "file_extension": ".py",
   "mimetype": "text/x-python",
   "name": "python",
   "nbconvert_exporter": "python",
   "pygments_lexer": "ipython3",
   "version": "3.11.2"
  }
 },
 "nbformat": 4,
 "nbformat_minor": 4
}
