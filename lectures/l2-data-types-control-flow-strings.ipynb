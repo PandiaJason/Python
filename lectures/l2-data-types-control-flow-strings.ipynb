{
 "cells": [
  {
   "cell_type": "markdown",
   "metadata": {},
   "source": [
    "![College Logo](../misc/college-logo-1024x245.png)"
   ]
  },
  {
   "cell_type": "markdown",
   "metadata": {},
   "source": [
    "\n",
    "\n",
    "\n",
    "<div class=\"alert alert-block alert-info\">\n",
    "    \n",
    "# Lecture notes on Python Programming\n",
    "\n",
    "**By Jason Pandian**<br> *Assistant Professor, Department of Information Technology*\n",
    "    \n",
    "</div>\n",
    "\n"
   ]
  },
  {
   "cell_type": "markdown",
   "metadata": {},
   "source": [
    "# DATA TYPES, CONTROL FLOW, STRINGS\n",
    "Control Flow -conditional (if), Alternative (if-else), Chained conditional (if-elif-else)- Iteration: state, while, for, break, continue, pass - Strings: string slices, immutability, string functions and methods, string\n",
    "module, Regular expression, Pattern matching . - Illupdated_strative Problems."
   ]
  },
  {
   "cell_type": "markdown",
   "metadata": {
    "_cell_guid": "b1076dfc-b9ad-4769-8c92-a6c4dae69d19",
    "_uuid": "8f2839f25d086af736a60e9eeb907d3b93b6e0e5",
    "execution": {
     "iopub.execute_input": "2024-02-29T15:29:33.880275Z",
     "iopub.status.busy": "2024-02-29T15:29:33.879856Z",
     "iopub.status.idle": "2024-02-29T15:29:33.923139Z",
     "shell.execute_reply": "2024-02-29T15:29:33.920959Z",
     "shell.execute_reply.started": "2024-02-29T15:29:33.880237Z"
    }
   },
   "source": [
    "### What is Control Flow?\n",
    "Control flow in Python refers to the order in which statements and instructions are executed in a program. It determines the flow of execution based on certain conditions or loops."
   ]
  },
  {
   "cell_type": "markdown",
   "metadata": {},
   "source": [
    "### If Statement\n",
    "Used for executing a block of code if a specified condition is True."
   ]
  },
  {
   "cell_type": "code",
   "execution_count": 1,
   "metadata": {},
   "outputs": [
    {
     "name": "stdout",
     "output_type": "stream",
     "text": [
      "x is positive\n"
     ]
    }
   ],
   "source": [
    "x = 10\n",
    "if x > 0:\n",
    "    print(\"x is positive\")"
   ]
  },
  {
   "cell_type": "markdown",
   "metadata": {},
   "source": [
    "### If-Else Statement\n",
    "Executes one block of code if the condition is True, and another block if it's False."
   ]
  },
  {
   "cell_type": "code",
   "execution_count": 2,
   "metadata": {},
   "outputs": [
    {
     "name": "stdout",
     "output_type": "stream",
     "text": [
      "y is non-positive\n"
     ]
    }
   ],
   "source": [
    "y = -5\n",
    "if y > 0:\n",
    "    print(\"y is positive\")\n",
    "else:\n",
    "    print(\"y is non-positive\")"
   ]
  },
  {
   "cell_type": "markdown",
   "metadata": {},
   "source": [
    "### Chained Conditional (If-Elif-Else)\n",
    "Allows checking multiple conditions in sequence."
   ]
  },
  {
   "cell_type": "code",
   "execution_count": 3,
   "metadata": {},
   "outputs": [
    {
     "name": "stdout",
     "output_type": "stream",
     "text": [
      "z is zero\n"
     ]
    }
   ],
   "source": [
    "z = 0\n",
    "if z > 0:\n",
    "    print(\"z is positive\")\n",
    "elif z < 0:\n",
    "    print(\"z is negative\")\n",
    "else:\n",
    "    print(\"z is zero\")"
   ]
  },
  {
   "cell_type": "markdown",
   "metadata": {},
   "source": [
    "## Iteration\n",
    "Iteration in programming is the repetition of a set of instructions or code block until a certain condition is met.\n",
    "\n",
    "### State \n",
    "- \"state\" - **status** refers to the current values of variables and attributes within an object or program, representing its configuration at a given moment. \n",
    "- It encapsulates data such as variable values, object attributes, and program execution status, crucial for understanding and managing program behavior and interactions.\n",
    "\n",
    "### While Loop\n",
    "Repeats a block of code as long as a given condition is True.\n"
   ]
  },
  {
   "cell_type": "code",
   "execution_count": 4,
   "metadata": {},
   "outputs": [
    {
     "name": "stdout",
     "output_type": "stream",
     "text": [
      "Count: 0\n",
      "Count: 1\n",
      "Count: 2\n",
      "Count: 3\n",
      "Count: 4\n"
     ]
    }
   ],
   "source": [
    "count = 0\n",
    "while count < 5:\n",
    "    print(\"Count:\", count)\n",
    "    count += 1\n"
   ]
  },
  {
   "cell_type": "code",
   "execution_count": 5,
   "metadata": {},
   "outputs": [
    {
     "name": "stdout",
     "output_type": "stream",
     "text": [
      "Count: 0\n",
      "Count: 1\n",
      "Count: 2\n",
      "Count: 3\n",
      "Count: 4\n",
      "Count: 5\n"
     ]
    }
   ],
   "source": [
    "count = 0\n",
    "while count <= 5:\n",
    "    print(\"Count:\", count)\n",
    "    count += 1\n"
   ]
  },
  {
   "cell_type": "code",
   "execution_count": 6,
   "metadata": {},
   "outputs": [
    {
     "name": "stdout",
     "output_type": "stream",
     "text": [
      "Count: 5\n",
      "Count: 4\n",
      "Count: 3\n",
      "Count: 2\n",
      "Count: 1\n",
      "Count: 0\n"
     ]
    }
   ],
   "source": [
    "count = 5\n",
    "while count >= 0:\n",
    "    print(\"Count:\", count)\n",
    "    count -= 1\n"
   ]
  },
  {
   "cell_type": "code",
   "execution_count": null,
   "metadata": {},
   "outputs": [],
   "source": [
    "while 1 :\n",
    "    print(\"True\")\n"
   ]
  },
  {
   "cell_type": "code",
   "execution_count": null,
   "metadata": {},
   "outputs": [],
   "source": [
    "count = 5\n",
    "while count >= 0:\n",
    "    print(\"Count:\", count)\n",
    "    count += 1 # error count = count + 1\n"
   ]
  },
  {
   "cell_type": "markdown",
   "metadata": {},
   "source": [
    "### For Loop\n",
    "Iterates over a sequence (e.g., list, tuple, string) or other iterable objects."
   ]
  },
  {
   "cell_type": "code",
   "execution_count": 1,
   "metadata": {},
   "outputs": [
    {
     "name": "stdout",
     "output_type": "stream",
     "text": [
      "apple\n",
      "banana\n",
      "cherry\n"
     ]
    }
   ],
   "source": [
    "fruits = [\"apple\", \"banana\", \"cherry\"]\n",
    "for fruit in fruits:\n",
    "    print(fruit)"
   ]
  },
  {
   "cell_type": "code",
   "execution_count": 3,
   "metadata": {},
   "outputs": [
    {
     "name": "stdout",
     "output_type": "stream",
     "text": [
      "1\n",
      "2\n",
      "3\n",
      "4\n",
      "5\n",
      "6\n",
      "7\n",
      "8\n",
      "9\n",
      "10\n"
     ]
    }
   ],
   "source": [
    "for i in range(1,11):\n",
    "    print(i)"
   ]
  },
  {
   "cell_type": "markdown",
   "metadata": {},
   "source": [
    "### Break Statement\n",
    "Terminates the loop prematurely when a certain condition is met."
   ]
  },
  {
   "cell_type": "code",
   "execution_count": 8,
   "metadata": {},
   "outputs": [
    {
     "name": "stdout",
     "output_type": "stream",
     "text": [
      "0\n",
      "1\n",
      "2\n",
      "3\n",
      "4\n"
     ]
    }
   ],
   "source": [
    "for num in range(10):\n",
    "    if num == 5:\n",
    "        break\n",
    "    print(num)"
   ]
  },
  {
   "cell_type": "markdown",
   "metadata": {},
   "source": [
    "### Continue Statement\n",
    "Skips the rest of the code inside the loop for the current iteration and moves to the next one."
   ]
  },
  {
   "cell_type": "code",
   "execution_count": 9,
   "metadata": {},
   "outputs": [
    {
     "name": "stdout",
     "output_type": "stream",
     "text": [
      "0\n",
      "1\n",
      "3\n",
      "4\n"
     ]
    }
   ],
   "source": [
    "for num in range(5):\n",
    "    if num == 2:\n",
    "        continue\n",
    "    print(num)\n"
   ]
  },
  {
   "cell_type": "markdown",
   "metadata": {},
   "source": [
    "### Pass Statement\n",
    "Acts as a placeholder; it does nothing and is used when a statement is syntactically required."
   ]
  },
  {
   "cell_type": "code",
   "execution_count": 11,
   "metadata": {},
   "outputs": [],
   "source": [
    "for item in fruits:\n",
    "    # Some code here\n",
    "    pass  # Placeholder, does nothing\n"
   ]
  },
  {
   "cell_type": "markdown",
   "metadata": {},
   "source": [
    "### Strings\n",
    "\n",
    "In Python, strings are **sequences of characters, immutable**, and can be manipulated using various built-in **functions and methods**."
   ]
  },
  {
   "cell_type": "markdown",
   "metadata": {},
   "source": [
    "### String Traversal"
   ]
  },
  {
   "cell_type": "code",
   "execution_count": 8,
   "metadata": {},
   "outputs": [
    {
     "name": "stdout",
     "output_type": "stream",
     "text": [
      "H\n",
      "e\n",
      "l\n",
      "l\n",
      "o\n",
      ",\n",
      " \n",
      "W\n",
      "o\n",
      "r\n",
      "l\n",
      "d\n"
     ]
    }
   ],
   "source": [
    "for c in \"Hello, World\":\n",
    "    print(c)"
   ]
  },
  {
   "cell_type": "markdown",
   "metadata": {},
   "source": [
    "### String Slicing"
   ]
  },
  {
   "cell_type": "code",
   "execution_count": 78,
   "metadata": {},
   "outputs": [
    {
     "name": "stdout",
     "output_type": "stream",
     "text": [
      "P\n"
     ]
    }
   ],
   "source": [
    "my_str = \"Python Lang\"\n",
    "print(my_str[0])    # Output: 'P'"
   ]
  },
  {
   "cell_type": "code",
   "execution_count": 77,
   "metadata": {},
   "outputs": [
    {
     "name": "stdout",
     "output_type": "stream",
     "text": [
      "P\n"
     ]
    }
   ],
   "source": [
    "print(my_str[0:1])    # Output: 'P'"
   ]
  },
  {
   "cell_type": "code",
   "execution_count": 64,
   "metadata": {},
   "outputs": [
    {
     "name": "stdout",
     "output_type": "stream",
     "text": [
      "Pytho\n"
     ]
    }
   ],
   "source": [
    "print(my_str[0:5])    # Output: 'Pytho'"
   ]
  },
  {
   "cell_type": "code",
   "execution_count": 65,
   "metadata": {},
   "outputs": [
    {
     "name": "stdout",
     "output_type": "stream",
     "text": [
      "Python\n"
     ]
    }
   ],
   "source": [
    "print(my_str[0:6])    # Output: 'Python'"
   ]
  },
  {
   "cell_type": "code",
   "execution_count": 66,
   "metadata": {},
   "outputs": [
    {
     "name": "stdout",
     "output_type": "stream",
     "text": [
      " \n"
     ]
    }
   ],
   "source": [
    "print(my_str[6:7])    # Output: ' '"
   ]
  },
  {
   "cell_type": "code",
   "execution_count": 67,
   "metadata": {},
   "outputs": [
    {
     "name": "stdout",
     "output_type": "stream",
     "text": [
      "L\n"
     ]
    }
   ],
   "source": [
    "print(my_str[7:8])    # Output: 'L'"
   ]
  },
  {
   "cell_type": "code",
   "execution_count": 68,
   "metadata": {},
   "outputs": [
    {
     "name": "stdout",
     "output_type": "stream",
     "text": [
      "g\n"
     ]
    }
   ],
   "source": [
    "print(my_str[-1:])    # Output: 'g'"
   ]
  },
  {
   "cell_type": "code",
   "execution_count": 69,
   "metadata": {},
   "outputs": [
    {
     "name": "stdout",
     "output_type": "stream",
     "text": [
      "Python Lang\n"
     ]
    }
   ],
   "source": [
    "print(my_str[:])      # Output: 'Python Lang' (Full string)"
   ]
  },
  {
   "cell_type": "code",
   "execution_count": 70,
   "metadata": {},
   "outputs": [
    {
     "name": "stdout",
     "output_type": "stream",
     "text": [
      "Python\n"
     ]
    }
   ],
   "source": [
    "print(my_str[:6])     # Output: 'Python' (From the beginning up to index 6)"
   ]
  },
  {
   "cell_type": "code",
   "execution_count": 71,
   "metadata": {},
   "outputs": [
    {
     "name": "stdout",
     "output_type": "stream",
     "text": [
      "Lang\n"
     ]
    }
   ],
   "source": [
    "print(my_str[7:])     # Output: 'Lang' (From index 7 to the end)"
   ]
  },
  {
   "cell_type": "code",
   "execution_count": 72,
   "metadata": {},
   "outputs": [
    {
     "name": "stdout",
     "output_type": "stream",
     "text": [
      "Lang\n"
     ]
    }
   ],
   "source": [
    "print(my_str[-4:])    # Output: 'Lang' (Last 4 characters)"
   ]
  },
  {
   "cell_type": "code",
   "execution_count": 83,
   "metadata": {},
   "outputs": [
    {
     "name": "stdout",
     "output_type": "stream",
     "text": [
      "Pto ag\n"
     ]
    }
   ],
   "source": [
    "print(my_str[::2])    # Output: 'Pto ag' (Every other character) ->stepsize of 2"
   ]
  },
  {
   "cell_type": "code",
   "execution_count": 74,
   "metadata": {},
   "outputs": [
    {
     "name": "stdout",
     "output_type": "stream",
     "text": [
      "gnaL nohtyP\n"
     ]
    }
   ],
   "source": [
    "print(my_str[::-1])   # Output: 'gnaL nohtyP' (Reverse the string)"
   ]
  },
  {
   "cell_type": "code",
   "execution_count": 4,
   "metadata": {},
   "outputs": [
    {
     "name": "stdout",
     "output_type": "stream",
     "text": [
      "Characters in the string: Hello, World!\n",
      "First character: H\n",
      "Last character: !\n"
     ]
    }
   ],
   "source": [
    "# Example of strings as sequences of characters\n",
    "my_string = \"Hello, World!\"\n",
    "print(\"Characters in the string:\", my_string)  # Output: Hello, World!\n",
    "\n",
    "# Accessing individual characters in the string\n",
    "print(\"First character:\", my_string[0])  # Output: H\n",
    "print(\"Last character:\", my_string[-1])  # Output: !\n"
   ]
  },
  {
   "cell_type": "code",
   "execution_count": 3,
   "metadata": {},
   "outputs": [
    {
     "ename": "TypeError",
     "evalue": "'str' object does not support item assignment",
     "output_type": "error",
     "traceback": [
      "\u001b[0;31m---------------------------------------------------------------------------\u001b[0m",
      "\u001b[0;31mTypeError\u001b[0m                                 Traceback (most recent call last)",
      "Cell \u001b[0;32mIn[3], line 3\u001b[0m\n\u001b[1;32m      1\u001b[0m \u001b[38;5;66;03m# Example of string immutability\u001b[39;00m\n\u001b[1;32m      2\u001b[0m \u001b[38;5;66;03m# Attempting to modify a character in the string will result in an error\u001b[39;00m\n\u001b[0;32m----> 3\u001b[0m \u001b[43mmy_string\u001b[49m\u001b[43m[\u001b[49m\u001b[38;5;241;43m0\u001b[39;49m\u001b[43m]\u001b[49m \u001b[38;5;241m=\u001b[39m \u001b[38;5;124m'\u001b[39m\u001b[38;5;124mh\u001b[39m\u001b[38;5;124m'\u001b[39m  \u001b[38;5;66;03m# Raises TypeError: 'str' object does not support item assignment\u001b[39;00m\n",
      "\u001b[0;31mTypeError\u001b[0m: 'str' object does not support item assignment"
     ]
    }
   ],
   "source": [
    "# Example of string immutability\n",
    "# Attempting to modify a character in the string will result in an error\n",
    "my_string[0] = 'h'  # Raises TypeError: 'str' object does not support item assignment\n"
   ]
  },
  {
   "cell_type": "code",
   "execution_count": 6,
   "metadata": {},
   "outputs": [
    {
     "name": "stdout",
     "output_type": "stream",
     "text": [
      "Modified string: Hi, World!\n"
     ]
    },
    {
     "data": {
      "text/plain": [
       "str"
      ]
     },
     "execution_count": 6,
     "metadata": {},
     "output_type": "execute_result"
    }
   ],
   "source": [
    "# String manipulation example\n",
    "# Replacing a substring\n",
    "modified_string = my_string.replace(\"Hello\", \"Hi\")\n",
    "print(\"Modified string:\", modified_string)  # Output: Hi, World!\n",
    "type(modified_string)"
   ]
  },
  {
   "cell_type": "code",
   "execution_count": 3,
   "metadata": {},
   "outputs": [
    {
     "name": "stdout",
     "output_type": "stream",
     "text": [
      "Split string: ['Hello', ' World!']\n"
     ]
    },
    {
     "data": {
      "text/plain": [
       "list"
      ]
     },
     "execution_count": 3,
     "metadata": {},
     "output_type": "execute_result"
    }
   ],
   "source": [
    "# Splitting the string into a list of substrings\n",
    "split_string = my_string.split(',')\n",
    "print(\"Split string:\", split_string)  # Output: ['Hello', ' World!']\n",
    "type(split_string)"
   ]
  },
  {
   "cell_type": "code",
   "execution_count": 7,
   "metadata": {},
   "outputs": [
    {
     "name": "stdout",
     "output_type": "stream",
     "text": [
      "Joined string: Hello, World!\n"
     ]
    },
    {
     "data": {
      "text/plain": [
       "str"
      ]
     },
     "execution_count": 7,
     "metadata": {},
     "output_type": "execute_result"
    }
   ],
   "source": [
    "# Joining the substrings back into a single string\n",
    "joined_string = ','.join(split_string)\n",
    "print(\"Joined string:\", joined_string)  # Output: Hello, World!\n",
    "type(joined_string)"
   ]
  },
  {
   "cell_type": "markdown",
   "metadata": {},
   "source": [
    "### Key Takeaway\n",
    "\n",
    "- Sequence of characters.\n",
    "- Immutable.\n",
    "- But can be manupulated"
   ]
  },
  {
   "cell_type": "markdown",
   "metadata": {},
   "source": [
    "### Under the hood for Simple Replace"
   ]
  },
  {
   "cell_type": "code",
   "execution_count": 5,
   "metadata": {},
   "outputs": [
    {
     "name": "stdout",
     "output_type": "stream",
     "text": [
      "13\n"
     ]
    }
   ],
   "source": [
    "my_string = \"Hello, World!\"\n",
    "print(len(my_string))"
   ]
  },
  {
   "cell_type": "code",
   "execution_count": 6,
   "metadata": {},
   "outputs": [
    {
     "name": "stdout",
     "output_type": "stream",
     "text": [
      "length of th given_str:  5\n",
      "hi, World!\n"
     ]
    }
   ],
   "source": [
    "def strReplace(my_string, given_str, updated_str):\n",
    "    # Initialize an empty string to store the modified string\n",
    "    new_string = \"\"\n",
    "    \n",
    "    # Initialize an index variable to iterate through the original string\n",
    "    i = 0\n",
    "\n",
    "    print(\"length of th given_str: \",len(given_str))\n",
    "    \n",
    "    # Iterate through the original string\n",
    "    while i < len(my_string):\n",
    "        # Check if the current substring matches the substring to be replaced\n",
    "        if my_string[i:i + len(given_str)] == given_str:\n",
    "            # If yes, append the replacement substring to the new string\n",
    "            new_string += updated_str\n",
    "            # Update the index to skip the replaced substring\n",
    "            i += len(given_str)\n",
    "        else:\n",
    "            # If no match, append the current character to the new string\n",
    "            new_string += my_string[i]\n",
    "            # Move to the next character in the original string\n",
    "            i += 1\n",
    "    \n",
    "    # Return the modified string\n",
    "    return new_string\n",
    "\n",
    "# Test the function\n",
    "print(strReplace(\"Hello, World!\", \"Hello\", \"hi\"))\n"
   ]
  },
  {
   "cell_type": "code",
   "execution_count": null,
   "metadata": {},
   "outputs": [],
   "source": [
    "\"hello\" + \" \" + \"world\""
   ]
  },
  {
   "cell_type": "markdown",
   "metadata": {},
   "source": [
    "## String functions and methods\n",
    " In Python, string functions and methods are tools used to manipulate strings, which are sequences of characters.\n",
    "\n",
    "### String Functions\n",
    "Definition: String functions are standalone functions that operate on strings and return a result. They do not modify the original string.\n",
    "Example: len() is a string function that returns the length of a string.\n",
    "\n",
    "#### len()\n",
    "- `len()`: Returns the length of a string.\n"
   ]
  },
  {
   "cell_type": "code",
   "execution_count": 15,
   "metadata": {},
   "outputs": [
    {
     "name": "stdout",
     "output_type": "stream",
     "text": [
      "5\n"
     ]
    }
   ],
   "source": [
    "string = \"Hello\"\n",
    "print(len(string))  # Function Example: 5"
   ]
  },
  {
   "cell_type": "markdown",
   "metadata": {},
   "source": [
    "### String Methods\n",
    "Definition: String methods are functions that are called on string objects and operate directly on them. They can modify the original string and/or return a modified version of it.\n",
    "Example: .lower() is a string method that converts all characters in a string to lowercase.\n",
    "\n",
    "#### 1. lower()\n",
    "`lower()`: Converts all characters in a string to lowercase."
   ]
  },
  {
   "cell_type": "code",
   "execution_count": 16,
   "metadata": {},
   "outputs": [
    {
     "name": "stdout",
     "output_type": "stream",
     "text": [
      "HELLO\n"
     ]
    }
   ],
   "source": [
    "string = \"hello\"\n",
    "print(string.upper())  # Method Example: HELLO\n"
   ]
  },
  {
   "cell_type": "markdown",
   "metadata": {},
   "source": [
    "#### 2. upper()\n",
    "`upper()`: Converts all characters in a string to uppercase."
   ]
  },
  {
   "cell_type": "code",
   "execution_count": 17,
   "metadata": {},
   "outputs": [
    {
     "name": "stdout",
     "output_type": "stream",
     "text": [
      "hello\n"
     ]
    }
   ],
   "source": [
    "string = \"HELLO\"\n",
    "print(string.lower())  # Method Example: hello\n"
   ]
  },
  {
   "cell_type": "markdown",
   "metadata": {},
   "source": [
    "#### 3. strip()\n",
    "`strip()`: Removes leading and trailing whitespace from a string."
   ]
  },
  {
   "cell_type": "code",
   "execution_count": 18,
   "metadata": {},
   "outputs": [
    {
     "name": "stdout",
     "output_type": "stream",
     "text": [
      "hello\n"
     ]
    }
   ],
   "source": [
    "string = \"   hello   \"\n",
    "print(string.strip())  # Method Example: hello\n"
   ]
  },
  {
   "cell_type": "markdown",
   "metadata": {},
   "source": [
    "#### 4. split()\n",
    "`split()`: Splits a string into a list of substrings based on a delimiter."
   ]
  },
  {
   "cell_type": "code",
   "execution_count": 19,
   "metadata": {},
   "outputs": [
    {
     "name": "stdout",
     "output_type": "stream",
     "text": [
      "['apple', 'banana', 'orange']\n"
     ]
    }
   ],
   "source": [
    "string = \"apple,banana,orange\"\n",
    "fruits = string.split(',')\n",
    "print(fruits)  # Method Example: ['apple', 'banana', 'orange']\n"
   ]
  },
  {
   "cell_type": "markdown",
   "metadata": {},
   "source": [
    "#### 5. join()\n",
    "`join()`: Joins elements of an iterable into a string, using the string as a separator."
   ]
  },
  {
   "cell_type": "code",
   "execution_count": 20,
   "metadata": {},
   "outputs": [
    {
     "name": "stdout",
     "output_type": "stream",
     "text": [
      "apple,banana,orange\n"
     ]
    }
   ],
   "source": [
    "fruits = ['apple', 'banana', 'orange']\n",
    "string = ','.join(fruits)\n",
    "print(string)  # Method Example: apple,banana,orange\n"
   ]
  },
  {
   "cell_type": "markdown",
   "metadata": {},
   "source": [
    "#### 6. replace()\n",
    "`replace()`: Replaces occurrences of a substring with another substring."
   ]
  },
  {
   "cell_type": "code",
   "execution_count": 21,
   "metadata": {},
   "outputs": [
    {
     "name": "stdout",
     "output_type": "stream",
     "text": [
      "Hello, Universe!\n"
     ]
    }
   ],
   "source": [
    "string = \"Hello, World!\"\n",
    "new_string = string.replace(\"World\", \"Universe\")\n",
    "print(new_string)  # Method Example: Hello, Universe!\n"
   ]
  },
  {
   "cell_type": "markdown",
   "metadata": {},
   "source": [
    "#### 7. startswith()\n",
    "`startswith()`: Checks if a string starts with a specified prefix."
   ]
  },
  {
   "cell_type": "code",
   "execution_count": 22,
   "metadata": {},
   "outputs": [
    {
     "name": "stdout",
     "output_type": "stream",
     "text": [
      "True\n"
     ]
    }
   ],
   "source": [
    "string = \"Hello, World!\"\n",
    "print(string.startswith(\"Hello\"))  # Method Example: True\n"
   ]
  },
  {
   "cell_type": "markdown",
   "metadata": {},
   "source": [
    "#### 8. endswith()\n",
    "`endswith()`: Checks if a string ends with a specified suffix."
   ]
  },
  {
   "cell_type": "code",
   "execution_count": 23,
   "metadata": {},
   "outputs": [
    {
     "name": "stdout",
     "output_type": "stream",
     "text": [
      "True\n"
     ]
    }
   ],
   "source": [
    "string = \"Hello, World!\"\n",
    "print(string.endswith(\"World!\"))  # Method Example: True\n"
   ]
  },
  {
   "cell_type": "markdown",
   "metadata": {},
   "source": [
    "#### 9. find()\n",
    "`find()`: Searches for a substring within a string and returns the lowest index where it's found."
   ]
  },
  {
   "cell_type": "code",
   "execution_count": 24,
   "metadata": {},
   "outputs": [
    {
     "name": "stdout",
     "output_type": "stream",
     "text": [
      "7\n"
     ]
    }
   ],
   "source": [
    "string = \"Hello, World!\"\n",
    "print(string.find(\"World\"))  # Method Example: 7\n"
   ]
  },
  {
   "cell_type": "markdown",
   "metadata": {},
   "source": [
    "#### 10.count()\n",
    "`count()`: Counts the number of occurrences of a substring within a string."
   ]
  },
  {
   "cell_type": "code",
   "execution_count": 25,
   "metadata": {},
   "outputs": [
    {
     "name": "stdout",
     "output_type": "stream",
     "text": [
      "2\n"
     ]
    }
   ],
   "source": [
    "string = \"apple, banana, apple, orange\"\n",
    "print(string.count(\"apple\"))  # Method Example: 2\n"
   ]
  },
  {
   "cell_type": "markdown",
   "metadata": {},
   "source": [
    "#### 11. capitalize()\n",
    "`capitalize()`: Converts the first character of a string to uppercase and the rest to lowercase."
   ]
  },
  {
   "cell_type": "code",
   "execution_count": 26,
   "metadata": {},
   "outputs": [
    {
     "name": "stdout",
     "output_type": "stream",
     "text": [
      "Hello world\n"
     ]
    }
   ],
   "source": [
    "string = \"hello world\"\n",
    "print(string.capitalize())  # Method Example: Hello world\n"
   ]
  },
  {
   "cell_type": "markdown",
   "metadata": {},
   "source": [
    "#### 12. casefold()\n",
    "`casefold()`: Converts a string to lowercase, suitable for case-insensitive comparisons."
   ]
  },
  {
   "cell_type": "code",
   "execution_count": 27,
   "metadata": {},
   "outputs": [
    {
     "name": "stdout",
     "output_type": "stream",
     "text": [
      "hello world\n"
     ]
    }
   ],
   "source": [
    "string = \"Hello World\"\n",
    "print(string.casefold())  # Method Example: hello world\n"
   ]
  },
  {
   "cell_type": "markdown",
   "metadata": {},
   "source": [
    "#### 13. isdigit()\n",
    "`isdigit()`: Checks if all characters in a string are digits."
   ]
  },
  {
   "cell_type": "code",
   "execution_count": 28,
   "metadata": {},
   "outputs": [
    {
     "name": "stdout",
     "output_type": "stream",
     "text": [
      "True\n"
     ]
    }
   ],
   "source": [
    "string = \"123\"\n",
    "print(string.isdigit())  # Method Example: True\n"
   ]
  },
  {
   "cell_type": "markdown",
   "metadata": {},
   "source": [
    "#### 14. islower()\n",
    "`islower()`: Checks if all characters in a string are lowercase."
   ]
  },
  {
   "cell_type": "code",
   "execution_count": 29,
   "metadata": {},
   "outputs": [
    {
     "name": "stdout",
     "output_type": "stream",
     "text": [
      "True\n"
     ]
    }
   ],
   "source": [
    "string = \"hello\"\n",
    "print(string.islower())  # Method Example: True\n"
   ]
  },
  {
   "cell_type": "markdown",
   "metadata": {},
   "source": [
    "#### 15. isupper()\n",
    "`isupper()`: Checks if all characters in a string are uppercase."
   ]
  },
  {
   "cell_type": "code",
   "execution_count": 30,
   "metadata": {},
   "outputs": [
    {
     "name": "stdout",
     "output_type": "stream",
     "text": [
      "True\n"
     ]
    }
   ],
   "source": [
    "string = \"HELLO\"\n",
    "print(string.isupper())  # Method Example: True\n"
   ]
  },
  {
   "cell_type": "markdown",
   "metadata": {},
   "source": [
    "#### 16. isspace()\n",
    "`isspace()`: Checks if all characters in a string are whitespace."
   ]
  },
  {
   "cell_type": "code",
   "execution_count": 31,
   "metadata": {},
   "outputs": [
    {
     "name": "stdout",
     "output_type": "stream",
     "text": [
      "True\n"
     ]
    }
   ],
   "source": [
    "string = \"   \"\n",
    "print(string.isspace())  # Method Example: True\n"
   ]
  },
  {
   "cell_type": "markdown",
   "metadata": {},
   "source": [
    "#### 17. istitle()\n",
    "istitle(): Checks if a string is titlecased (i.e., every word starts with an uppercase character and the rest are lowercase)."
   ]
  },
  {
   "cell_type": "code",
   "execution_count": 32,
   "metadata": {},
   "outputs": [
    {
     "name": "stdout",
     "output_type": "stream",
     "text": [
      "True\n"
     ]
    }
   ],
   "source": [
    "string = \"Hello World\"\n",
    "print(string.istitle())  # Method Example: True\n"
   ]
  },
  {
   "cell_type": "markdown",
   "metadata": {},
   "source": [
    "#### 18. split()\n",
    "`split()`: Splits a string into a list of substrings based on a delimiter (default is whitespace)."
   ]
  },
  {
   "cell_type": "code",
   "execution_count": 33,
   "metadata": {},
   "outputs": [
    {
     "name": "stdout",
     "output_type": "stream",
     "text": [
      "['apple', 'banana', 'orange']\n",
      "['', 'pple,b', 'n', 'n', ',or', 'nge']\n"
     ]
    }
   ],
   "source": [
    "string = \"apple,banana,orange\"\n",
    "fruits = string.split(',')\n",
    "print(fruits)  # Output: ['apple', 'banana', 'orange']\n",
    "\n",
    "string = \"apple,banana,orange\"\n",
    "fruits = string.split('a')\n",
    "print(fruits)  # Output: ['apple', 'banana', 'orange']\n"
   ]
  },
  {
   "cell_type": "markdown",
   "metadata": {},
   "source": [
    "#### 19.isalnum()\n",
    "`isalnum()`: Checks if all characters in a string are alphanumeric (either alphabetic or numeric)."
   ]
  },
  {
   "cell_type": "code",
   "execution_count": 34,
   "metadata": {},
   "outputs": [
    {
     "name": "stdout",
     "output_type": "stream",
     "text": [
      "True\n"
     ]
    }
   ],
   "source": [
    "string = \"Hello123\"\n",
    "print(string.isalnum())  # Output: True\n"
   ]
  },
  {
   "cell_type": "markdown",
   "metadata": {},
   "source": [
    "#### 20. isascii\n",
    "`isascii()`: Checks if all characters in a string are ASCII characters."
   ]
  },
  {
   "cell_type": "code",
   "execution_count": 35,
   "metadata": {},
   "outputs": [
    {
     "name": "stdout",
     "output_type": "stream",
     "text": [
      "True\n"
     ]
    }
   ],
   "source": [
    "string = \"Hello\"\n",
    "print(string.isascii())  # Output: True\n"
   ]
  },
  {
   "cell_type": "code",
   "execution_count": 36,
   "metadata": {},
   "outputs": [
    {
     "name": "stdout",
     "output_type": "stream",
     "text": [
      "False\n"
     ]
    }
   ],
   "source": [
    "string = \"Привет\"\n",
    "print(string.isascii())  # Output: False\n"
   ]
  },
  {
   "cell_type": "markdown",
   "metadata": {},
   "source": [
    "## String Module\n",
    "\n",
    "The `string` module in Python provides a collection of useful constants and classes for working with strings. It is part of the Python Standard Library, which means it is available in all Python installations without the need for additional installation steps.\n",
    "\n",
    "- Constants: The module includes several constants such as ascii_lowercase, ascii_uppercase, ascii_letters, digits, and punctuation. These constants provide predefined sets of characters that are commonly used in string manipulation tasks.\n",
    "\n",
    "- Functions: The string module does not include standalone functions. However, you can use the constants provided in combination with other Python functions to perform various string operations."
   ]
  },
  {
   "cell_type": "code",
   "execution_count": 37,
   "metadata": {},
   "outputs": [
    {
     "name": "stdout",
     "output_type": "stream",
     "text": [
      "abcdefghijklmnopqrstuvwxyz\n",
      "0123456789\n",
      "!\"#$%&'()*+,-./:;<=>?@[\\]^_`{|}~\n"
     ]
    }
   ],
   "source": [
    "import string\n",
    "\n",
    "# Accessing predefined sets of characters\n",
    "print(string.ascii_lowercase)  # Output: abcdefghijklmnopqrstuvwxyz\n",
    "print(string.digits)           # Output: 0123456789\n",
    "print(string.punctuation)      # Output: !\"#$%&'()*+,-./:;<=>?@[\\]^_`{|}~\n"
   ]
  },
  {
   "cell_type": "markdown",
   "metadata": {},
   "source": [
    "### Examples\n",
    "#### Generating Random Strings\n",
    "You can use the string.ascii_letters, string.digits, and other constants to generate random strings for tasks like generating passwords or tokens."
   ]
  },
  {
   "cell_type": "code",
   "execution_count": 38,
   "metadata": {},
   "outputs": [
    {
     "name": "stdout",
     "output_type": "stream",
     "text": [
      "UYmKAqQX\n"
     ]
    }
   ],
   "source": [
    "import string\n",
    "import random\n",
    "\n",
    "# Generate a random password of length 8\n",
    "password = ''.join(random.choices(string.ascii_letters + string.digits, k=8))\n",
    "print(password)\n"
   ]
  },
  {
   "cell_type": "markdown",
   "metadata": {},
   "source": [
    "#### Validating User Input\n",
    "You can use constants like string.digits to check if a user input contains only numeric characters."
   ]
  },
  {
   "cell_type": "code",
   "execution_count": 39,
   "metadata": {},
   "outputs": [
    {
     "name": "stdout",
     "output_type": "stream",
     "text": [
      "True\n",
      "False\n"
     ]
    }
   ],
   "source": [
    "import string\n",
    "\n",
    "def is_numeric(input_string):\n",
    "    for char in input_string:\n",
    "        if char not in string.digits:\n",
    "            return False\n",
    "    return True\n",
    "\n",
    "print(is_numeric(\"123\"))  # Output: True\n",
    "print(is_numeric(\"123a\")) # Output: False\n"
   ]
  },
  {
   "cell_type": "code",
   "execution_count": 40,
   "metadata": {},
   "outputs": [
    {
     "name": "stdout",
     "output_type": "stream",
     "text": [
      "True\n",
      "False\n"
     ]
    }
   ],
   "source": [
    "import string\n",
    "\n",
    "def is_numeric(input_string):\n",
    "    return all(char in string.digits for char in input_string)\n",
    "\n",
    "print(is_numeric(\"123\"))  # Output: True\n",
    "print(is_numeric(\"123a\")) # Output: False\n"
   ]
  },
  {
   "cell_type": "markdown",
   "metadata": {},
   "source": [
    "<div class=\"alert alert-block alert-info\">\n",
    "    \n",
    "<b>Any Questions?</b> \n",
    "    \n",
    "</div>"
   ]
  },
  {
   "cell_type": "markdown",
   "metadata": {},
   "source": [
    "\n",
    "\n",
    "\n",
    "<div class=\"alert alert-block alert-info\">\n",
    "    \n",
    "# For More\n",
    "\n",
    "[**Refer the Lectures/Tutorials GitHub Page**](https://github.com/PandiaJason/Python)\n",
    "\n",
    "    \n",
    "</div>\n",
    "\n"
   ]
  }
 ],
 "metadata": {
  "kaggle": {
   "accelerator": "none",
   "dataSources": [],
   "dockerImageVersionId": 30664,
   "isGpuEnabled": false,
   "isInternetEnabled": false,
   "language": "python",
   "sourceType": "notebook"
  },
  "kernelspec": {
   "display_name": "Python 3 (ipykernel)",
   "language": "python",
   "name": "python3"
  },
  "language_info": {
   "codemirror_mode": {
    "name": "ipython",
    "version": 3
   },
   "file_extension": ".py",
   "mimetype": "text/x-python",
   "name": "python",
   "nbconvert_exporter": "python",
   "pygments_lexer": "ipython3",
   "version": "3.11.2"
  }
 },
 "nbformat": 4,
 "nbformat_minor": 4
}
