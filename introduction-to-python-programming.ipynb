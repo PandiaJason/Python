{
 "cells": [
  {
   "cell_type": "markdown",
   "metadata": {},
   "source": [
    "<img src=\"./college-logo-1024x245.png\" />"
   ]
  },
  {
   "cell_type": "markdown",
   "metadata": {},
   "source": [
    "\n",
    "\n",
    "\n",
    "<div class=\"alert alert-block alert-info\">\n",
    "    \n",
    "# Lecture notes on Python Programming\n",
    "\n",
    "**By Jason Pandian**<br> *Assistant Professor, Department of IT*\n",
    "    \n",
    "</div>\n",
    "\n"
   ]
  },
  {
   "cell_type": "markdown",
   "metadata": {
    "_cell_guid": "b1076dfc-b9ad-4769-8c92-a6c4dae69d19",
    "_uuid": "8f2839f25d086af736a60e9eeb907d3b93b6e0e5",
    "execution": {
     "iopub.execute_input": "2024-02-29T15:29:33.880275Z",
     "iopub.status.busy": "2024-02-29T15:29:33.879856Z",
     "iopub.status.idle": "2024-02-29T15:29:33.923139Z",
     "shell.execute_reply": "2024-02-29T15:29:33.920959Z",
     "shell.execute_reply.started": "2024-02-29T15:29:33.880237Z"
    }
   },
   "source": [
    "# Introduction to Python Programming\n",
    "\n",
    "## What is Programming?\n",
    "Programming is the process of automating tasks logically and efficiently through writing code that a computer can understand and execute."
   ]
  },
  {
   "cell_type": "markdown",
   "metadata": {},
   "source": [
    "# Hello World"
   ]
  },
  {
   "cell_type": "code",
   "execution_count": 1,
   "metadata": {
    "execution": {
     "iopub.execute_input": "2024-02-29T15:30:00.123686Z",
     "iopub.status.busy": "2024-02-29T15:30:00.123242Z",
     "iopub.status.idle": "2024-02-29T15:30:00.130157Z",
     "shell.execute_reply": "2024-02-29T15:30:00.128520Z",
     "shell.execute_reply.started": "2024-02-29T15:30:00.123650Z"
    }
   },
   "outputs": [
    {
     "name": "stdout",
     "output_type": "stream",
     "text": [
      "Hello World\n"
     ]
    }
   ],
   "source": [
    "print(\"Hello World\")"
   ]
  },
  {
   "cell_type": "markdown",
   "metadata": {},
   "source": [
    "# Print Hello World n times "
   ]
  },
  {
   "cell_type": "code",
   "execution_count": 3,
   "metadata": {
    "execution": {
     "iopub.execute_input": "2024-02-29T15:34:09.789281Z",
     "iopub.status.busy": "2024-02-29T15:34:09.788873Z",
     "iopub.status.idle": "2024-02-29T15:34:09.794873Z",
     "shell.execute_reply": "2024-02-29T15:34:09.793938Z",
     "shell.execute_reply.started": "2024-02-29T15:34:09.789249Z"
    }
   },
   "outputs": [
    {
     "name": "stdout",
     "output_type": "stream",
     "text": [
      "Hello World\n",
      "Hello World\n",
      "Hello World\n",
      "Hello World\n",
      "Hello World\n",
      "Hello World\n",
      "Hello World\n",
      "Hello World\n",
      "Hello World\n",
      "Hello World\n"
     ]
    }
   ],
   "source": [
    "n = 10\n",
    "for i in range(n):\n",
    "    print(\"Hello World\")"
   ]
  },
  {
   "cell_type": "markdown",
   "metadata": {},
   "source": [
    "# Key Takeaway\n",
    "\n",
    "- Programming automates tasks.\n",
    "- Good programs aim for logical and efficient solutions.\n",
    "- Conciseness (fewer lines of code) is a desirable aspect of effective programming."
   ]
  },
  {
   "cell_type": "markdown",
   "metadata": {},
   "source": [
    "<div class=\"alert alert-block alert-info\">\n",
    "    \n",
    "<b>Any Questions?</b> \n",
    "    \n",
    "</div>"
   ]
  },
  {
   "cell_type": "markdown",
   "metadata": {},
   "source": [
    "# Standard Definition\n",
    "\n",
    "Programming is the process of designing and building executable computer programs to perform specific tasks or solve particular problems. It involves creating a set of instructions that a computer can understand and execute. The primary goal of programming is to develop software that can automate tasks, process data, or provide solutions to various challenges."
   ]
  },
  {
   "cell_type": "markdown",
   "metadata": {},
   "source": [
    "## Python Programming\n",
    "\n",
    "- Python is a high-level programming interpreted language known for its simple syntax, rich libraries, and conciseness, allowing for less code. \n",
    "- It is an object-oriented programming language that has gained notable popularity in web development, enterprise automation, and artificial intelligence. \n",
    "- Python is also recognized as a rapid prototyping language, facilitating the transition from a conceptual idea to a functional code solution."
   ]
  },
  {
   "cell_type": "markdown",
   "metadata": {},
   "source": [
    "## Python Interpreter\n",
    "\n",
    "A Python interpreter is a program that executes Python code. It reads and interprets Python scripts or commands, converting them into machine-readable instructions that the computer's hardware can execute. ie Interpreter is responsible for executing Python code. It serves as the bridge between the written Python script and the machine, translating the code into machine-readable instructions.\n",
    "\n",
    "### 1. Interactive Mode:\n",
    "The interpreter supports an interactive mode where users can enter Python commands one at a time and receive immediate feedback. This is helpful for testing small pieces of code or exploring language features."
   ]
  },
  {
   "cell_type": "code",
   "execution_count": 4,
   "metadata": {},
   "outputs": [
    {
     "ename": "SyntaxError",
     "evalue": "invalid syntax (2721132072.py, line 1)",
     "output_type": "error",
     "traceback": [
      "\u001b[0;36m  Cell \u001b[0;32mIn[4], line 1\u001b[0;36m\u001b[0m\n\u001b[0;31m    $ python\u001b[0m\n\u001b[0m    ^\u001b[0m\n\u001b[0;31mSyntaxError\u001b[0m\u001b[0;31m:\u001b[0m invalid syntax\n"
     ]
    }
   ],
   "source": [
    "$ python\n",
    ">>> print(\"Hello, Python!\")\n",
    "Hello, Python!"
   ]
  },
  {
   "cell_type": "markdown",
   "metadata": {},
   "source": [
    "### 2. Script Execution:\n",
    "The interpreter is used to execute Python scripts stored in files. By running the interpreter followed by the script's filename, the code within the script is executed."
   ]
  },
  {
   "cell_type": "code",
   "execution_count": 5,
   "metadata": {},
   "outputs": [
    {
     "ename": "SyntaxError",
     "evalue": "invalid syntax (147121973.py, line 1)",
     "output_type": "error",
     "traceback": [
      "\u001b[0;36m  Cell \u001b[0;32mIn[5], line 1\u001b[0;36m\u001b[0m\n\u001b[0;31m    $ python hello.py\u001b[0m\n\u001b[0m    ^\u001b[0m\n\u001b[0;31mSyntaxError\u001b[0m\u001b[0;31m:\u001b[0m invalid syntax\n"
     ]
    }
   ],
   "source": [
    "$ python hello.py"
   ]
  },
  {
   "cell_type": "markdown",
   "metadata": {},
   "source": [
    "### 3. Dynamic Typing:\n",
    "Python is dynamically typed, meaning variable types are determined at runtime. The interpreter manages this dynamic typing, allowing flexibility in variable usage."
   ]
  },
  {
   "cell_type": "code",
   "execution_count": 6,
   "metadata": {},
   "outputs": [
    {
     "ename": "SyntaxError",
     "evalue": "invalid syntax (3792649433.py, line 3)",
     "output_type": "error",
     "traceback": [
      "\u001b[0;36m  Cell \u001b[0;32mIn[6], line 3\u001b[0;36m\u001b[0m\n\u001b[0;31m    <class 'int'>\u001b[0m\n\u001b[0m    ^\u001b[0m\n\u001b[0;31mSyntaxError\u001b[0m\u001b[0;31m:\u001b[0m invalid syntax\n"
     ]
    }
   ],
   "source": [
    ">>> x = 5\n",
    ">>> type(x)\n",
    "<class 'int'>"
   ]
  },
  {
   "cell_type": "code",
   "execution_count": 8,
   "metadata": {
    "execution": {
     "iopub.execute_input": "2024-02-29T16:37:57.947330Z",
     "iopub.status.busy": "2024-02-29T16:37:57.946944Z",
     "iopub.status.idle": "2024-02-29T16:37:57.954281Z",
     "shell.execute_reply": "2024-02-29T16:37:57.953140Z",
     "shell.execute_reply.started": "2024-02-29T16:37:57.947299Z"
    }
   },
   "outputs": [
    {
     "data": {
      "text/plain": [
       "int"
      ]
     },
     "execution_count": 8,
     "metadata": {},
     "output_type": "execute_result"
    }
   ],
   "source": [
    "x = 5\n",
    "type(x)"
   ]
  },
  {
   "cell_type": "markdown",
   "metadata": {},
   "source": [
    "### Garbage Collection:\n",
    "The interpreter includes a garbage collector that automatically handles memory management. It identifies and frees up memory occupied by objects that are no longer in use."
   ]
  },
  {
   "cell_type": "markdown",
   "metadata": {},
   "source": [
    "### 4.Standard Library\n",
    "Python comes with an extensive standard library that provides ready-to-use modules and packages for various tasks. The interpreter interacts with these libraries to extend Python's functionality"
   ]
  },
  {
   "cell_type": "code",
   "execution_count": 9,
   "metadata": {
    "execution": {
     "iopub.execute_input": "2024-02-29T16:52:58.505364Z",
     "iopub.status.busy": "2024-02-29T16:52:58.504934Z",
     "iopub.status.idle": "2024-02-29T16:52:58.512244Z",
     "shell.execute_reply": "2024-02-29T16:52:58.510988Z",
     "shell.execute_reply.started": "2024-02-29T16:52:58.505330Z"
    }
   },
   "outputs": [
    {
     "name": "stdout",
     "output_type": "stream",
     "text": [
      "Current Date and Time: 2024-03-01 06:01:36.005827\n",
      "Formatted Date: 2024-03-01 06:01:36\n"
     ]
    }
   ],
   "source": [
    "# Example Code Using Python Standard Library\n",
    "\n",
    "# Using the `datetime` module to work with dates and times\n",
    "from datetime import datetime\n",
    "\n",
    "# Get the current date and time\n",
    "current_datetime = datetime.now()\n",
    "\n",
    "# Print the current date and time\n",
    "print(\"Current Date and Time:\", current_datetime)\n",
    "\n",
    "# Format the date as a string\n",
    "formatted_date = current_datetime.strftime(\"%Y-%m-%d %H:%M:%S\")\n",
    "print(\"Formatted Date:\", formatted_date)"
   ]
  },
  {
   "cell_type": "markdown",
   "metadata": {},
   "source": [
    "- We import the datetime module from the standard library.\n",
    "- We use datetime.now() to get the current date and time.\n",
    "- We print the current date and time.\n",
    "- We format the date as a string using strftime() and print the formatted date."
   ]
  },
  {
   "cell_type": "markdown",
   "metadata": {},
   "source": [
    "### 5.Extensibility \n",
    "The interpreter is extensible, allowing the incorporation of modules written in languages like C. This feature enables developers to enhance Python's capabilities or integrate it with existing systems.\n",
    "\n",
    "### 6.Platform Independence\n",
    "Python interpreters are available for various platforms (Windows, macOS, Linux), making Python code portable across different operating systems.\n",
    "\n",
    "### 7.Error Handling\n",
    "The interpreter identifies syntax errors and runtime errors, providing feedback to the developer for debugging purposes."
   ]
  },
  {
   "cell_type": "code",
   "execution_count": 10,
   "metadata": {},
   "outputs": [
    {
     "name": "stdout",
     "output_type": "stream",
     "text": [
      "Error: division by zero\n",
      "Cannot divide by zero. Please check your input.\n",
      "Execution completed.\n",
      "Program continues...\n"
     ]
    }
   ],
   "source": [
    "# Basic Error Handling Example\n",
    "\n",
    "try:\n",
    "    # Attempt to perform a division by zero\n",
    "    result = 10 / 0\n",
    "\n",
    "except ZeroDivisionError as e:\n",
    "    # Handle the ZeroDivisionError exception\n",
    "    print(\"Error:\", e)\n",
    "    print(\"Cannot divide by zero. Please check your input.\")\n",
    "    \n",
    "except Exception as e:\n",
    "    # Handle any other exceptions\n",
    "    print(\"An unexpected error occurred:\", e)\n",
    "\n",
    "finally:\n",
    "    # Code in the 'finally' block will always be executed, whether an exception occurred or not\n",
    "    print(\"Execution completed.\")\n",
    "\n",
    "# The program continues to run after handling the exception\n",
    "print(\"Program continues...\")\n"
   ]
  },
  {
   "cell_type": "markdown",
   "metadata": {},
   "source": [
    "# Assignment Operator \" = \" \n",
    "\n",
    "A simple program to add two integers. and print the result."
   ]
  },
  {
   "cell_type": "code",
   "execution_count": 11,
   "metadata": {},
   "outputs": [
    {
     "name": "stdout",
     "output_type": "stream",
     "text": [
      "Result 15\n"
     ]
    }
   ],
   "source": [
    "num1 = 10\n",
    "num2 = 5\n",
    "sum_result = num1 + num2\n",
    "print(\"Result\", sum_result)"
   ]
  },
  {
   "cell_type": "markdown",
   "metadata": {},
   "source": [
    "# Print Triangle"
   ]
  },
  {
   "cell_type": "code",
   "execution_count": 12,
   "metadata": {
    "execution": {
     "iopub.execute_input": "2024-02-29T15:51:26.923612Z",
     "iopub.status.busy": "2024-02-29T15:51:26.923188Z",
     "iopub.status.idle": "2024-02-29T15:51:26.929761Z",
     "shell.execute_reply": "2024-02-29T15:51:26.928643Z",
     "shell.execute_reply.started": "2024-02-29T15:51:26.923579Z"
    }
   },
   "outputs": [
    {
     "name": "stdout",
     "output_type": "stream",
     "text": [
      "    * \n",
      "   * * \n",
      "  * * * \n",
      " * * * * \n",
      "* * * * * \n"
     ]
    }
   ],
   "source": [
    "# Height of the triangle\n",
    "height = 5\n",
    "\n",
    "# Loop to print each row\n",
    "for i in range(1, height + 1):\n",
    "    # Print spaces before the stars\n",
    "    print(\" \" * (height - i), end=\"\")\n",
    "    \n",
    "    # Print stars for the current row\n",
    "    print(\"* \" * i)\n"
   ]
  },
  {
   "cell_type": "markdown",
   "metadata": {},
   "source": [
    "\n",
    "\n",
    "\n",
    "<div class=\"alert alert-block alert-info\">\n",
    "    \n",
    "# Any Questions or Doubts?\n",
    "\n",
    "[**Refer the Tutorials GitHub Page**](https://github.com/PandiaJason)\n",
    "\n",
    "    \n",
    "</div>\n",
    "\n"
   ]
  },
  {
   "cell_type": "code",
   "execution_count": null,
   "metadata": {},
   "outputs": [],
   "source": []
  }
 ],
 "metadata": {
  "kaggle": {
   "accelerator": "none",
   "dataSources": [],
   "dockerImageVersionId": 30664,
   "isGpuEnabled": false,
   "isInternetEnabled": false,
   "language": "python",
   "sourceType": "notebook"
  },
  "kernelspec": {
   "display_name": "Python 3 (ipykernel)",
   "language": "python",
   "name": "python3"
  },
  "language_info": {
   "codemirror_mode": {
    "name": "ipython",
    "version": 3
   },
   "file_extension": ".py",
   "mimetype": "text/x-python",
   "name": "python",
   "nbconvert_exporter": "python",
   "pygments_lexer": "ipython3",
   "version": "3.11.2"
  }
 },
 "nbformat": 4,
 "nbformat_minor": 4
}
